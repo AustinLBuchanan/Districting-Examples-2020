{
 "cells": [
  {
   "cell_type": "code",
   "execution_count": 1,
   "metadata": {},
   "outputs": [],
   "source": [
    "import json\n",
    "from networkx.readwrite import json_graph\n",
    "\n",
    "def read_graph_from_json(json_file):\n",
    "    with open(json_file) as f:\n",
    "        data = json.load(f)\n",
    "    return json_graph.adjacency_graph(data) "
   ]
  },
  {
   "cell_type": "code",
   "execution_count": 2,
   "metadata": {},
   "outputs": [],
   "source": [
    "# Read Oklahoma county graph from the json file \"OK_county.json\"\n",
    "filepath = 'districting-data\\\\'\n",
    "filename = 'OK_county.json'\n",
    "\n",
    "G = read_graph_from_json( filepath + filename )"
   ]
  },
  {
   "cell_type": "code",
   "execution_count": 3,
   "metadata": {},
   "outputs": [
    {
     "name": "stdout",
     "output_type": "stream",
     "text": [
      "Node 0 is Washita County, which has population 10924 and is centered at ( -098.9914359 , +35.2894967 )\n",
      "Node 1 is Jackson County, which has population 24785 and is centered at ( -099.4122347 , +34.5940059 )\n",
      "Node 2 is Major County, which has population 7782 and is centered at ( -098.5420147 , +36.3131189 )\n",
      "Node 3 is Delaware County, which has population 40397 and is centered at ( -094.8081892 , +36.3934371 )\n",
      "Node 4 is Custer County, which has population 28513 and is centered at ( -098.9973857 , +35.6456012 )\n",
      "Node 5 is Ellis County, which has population 3749 and is centered at ( -099.7501388 , +36.2242576 )\n",
      "Node 6 is Oklahoma County, which has population 796292 and is centered at ( -097.4094007 , +35.5546109 )\n",
      "Node 7 is Johnston County, which has population 10272 and is centered at ( -096.6542545 , +34.3134553 )\n",
      "Node 8 is Comanche County, which has population 121125 and is centered at ( -098.4765859 , +34.6626252 )\n",
      "Node 9 is Pushmataha County, which has population 10812 and is centered at ( -095.4080818 , +34.3778990 )\n",
      "Node 10 is Cleveland County, which has population 295528 and is centered at ( -097.3230884 , +35.2063756 )\n",
      "Node 11 is Wagoner County, which has population 80981 and is centered at ( -095.5142005 , +35.9633876 )\n",
      "Node 12 is Beckham County, which has population 22410 and is centered at ( -099.6900574 , +35.2706008 )\n",
      "Node 13 is Garvin County, which has population 25656 and is centered at ( -097.3127230 , +34.7093497 )\n",
      "Node 14 is Craig County, which has population 14107 and is centered at ( -095.2015531 , +36.7638896 )\n",
      "Node 15 is Cherokee County, which has population 47078 and is centered at ( -094.9967964 , +35.9043668 )\n",
      "Node 16 is Osage County, which has population 45818 and is centered at ( -096.4081120 , +36.6242995 )\n",
      "Node 17 is Tillman County, which has population 6968 and is centered at ( -098.9317010 , +34.3710852 )\n",
      "Node 18 is Logan County, which has population 49555 and is centered at ( -097.4509518 , +35.9142774 )\n",
      "Node 19 is Pittsburg County, which has population 43773 and is centered at ( -095.7481302 , +34.9255401 )\n",
      "Node 20 is Jefferson County, which has population 5337 and is centered at ( -097.8388896 , +34.1050824 )\n",
      "Node 21 is Pawnee County, which has population 15553 and is centered at ( -096.6966693 , +36.3137038 )\n",
      "Node 22 is Okfuskee County, which has population 11310 and is centered at ( -096.3277619 , +35.4668040 )\n",
      "Node 23 is McClain County, which has population 41662 and is centered at ( -097.4498032 , +35.0164359 )\n",
      "Node 24 is Le Flore County, which has population 48129 and is centered at ( -094.6950743 , +34.8973562 )\n",
      "Node 25 is Beaver County, which has population 5049 and is centered at ( -100.4830555 , +36.7483343 )\n",
      "Node 26 is Dewey County, which has population 4484 and is centered at ( -099.0143850 , +35.9779598 )\n",
      "Node 27 is Choctaw County, which has population 14204 and is centered at ( -095.5540792 , +34.0276995 )\n",
      "Node 28 is Roger Mills County, which has population 3442 and is centered at ( -099.7415716 , +35.7085544 )\n",
      "Node 29 is Bryan County, which has population 46067 and is centered at ( -096.2651348 , +33.9640035 )\n",
      "Node 30 is Latimer County, which has population 9444 and is centered at ( -095.2722625 , +34.8751365 )\n",
      "Node 31 is Texas County, which has population 21384 and is centered at ( -101.4838549 , +36.7463169 )\n",
      "Node 32 is Woodward County, which has population 20470 and is centered at ( -099.2736609 , +36.4256189 )\n",
      "Node 33 is Stephens County, which has population 42848 and is centered at ( -097.8556068 , +34.4813609 )\n",
      "Node 34 is Tulsa County, which has population 669279 and is centered at ( -095.9418132 , +36.1203177 )\n",
      "Node 35 is McIntosh County, which has population 18941 and is centered at ( -095.6717865 , +35.3691078 )\n",
      "Node 36 is Kingfisher County, which has population 15184 and is centered at ( -097.9345565 , +35.9494357 )\n",
      "Node 37 is Grant County, which has population 4169 and is centered at ( -097.7881508 , +36.7882544 )\n",
      "Node 38 is Murray County, which has population 13904 and is centered at ( -097.0715567 , +34.4857664 )\n",
      "Node 39 is Nowata County, which has population 9320 and is centered at ( -095.6133123 , +36.7896148 )\n",
      "Node 40 is Haskell County, which has population 11561 and is centered at ( -095.1096421 , +35.2324314 )\n",
      "Node 41 is Grady County, which has population 54795 and is centered at ( -097.8868902 , +35.0210581 )\n",
      "Node 42 is Payne County, which has population 81646 and is centered at ( -096.9752553 , +36.0792253 )\n",
      "Node 43 is Cimarron County, which has population 2296 and is centered at ( -102.5176984 , +36.7483904 )\n",
      "Node 44 is Garfield County, which has population 62846 and is centered at ( -097.7887411 , +36.3781319 )\n",
      "Node 45 is Adair County, which has population 19495 and is centered at ( -094.6510258 , +35.8980428 )\n",
      "Node 46 is Sequoyah County, which has population 39281 and is centered at ( -094.7507569 , +35.5024345 )\n",
      "Node 47 is Canadian County, which has population 154405 and is centered at ( -097.9798891 , +35.5433544 )\n",
      "Node 48 is Marshall County, which has population 15312 and is centered at ( -096.7705327 , +34.0270069 )\n",
      "Node 49 is Harper County, which has population 3272 and is centered at ( -099.6628052 , +36.8003504 )\n",
      "Node 50 is Alfalfa County, which has population 5699 and is centered at ( -098.3234449 , +36.7297032 )\n",
      "Node 51 is Lincoln County, which has population 33458 and is centered at ( -096.8813917 , +35.7031175 )\n",
      "Node 52 is Hughes County, which has population 13367 and is centered at ( -096.2511829 , +35.0529339 )\n",
      "Node 53 is Muskogee County, which has population 66339 and is centered at ( -095.3839106 , +35.6175506 )\n",
      "Node 54 is Ottawa County, which has population 30285 and is centered at ( -094.8026814 , +36.8357635 )\n",
      "Node 55 is Rogers County, which has population 95240 and is centered at ( -095.6013835 , +36.3777941 )\n",
      "Node 56 is Caddo County, which has population 26945 and is centered at ( -098.3810447 , +35.1679202 )\n",
      "Node 57 is Mayes County, which has population 39046 and is centered at ( -095.2356382 , +36.3038040 )\n",
      "Node 58 is Coal County, which has population 5266 and is centered at ( -096.2880390 , +34.5828612 )\n",
      "Node 59 is Carter County, which has population 48003 and is centered at ( -097.2879273 , +34.2518484 )\n",
      "Node 60 is Greer County, which has population 5491 and is centered at ( -099.5529675 , +34.9338533 )\n",
      "Node 61 is Cotton County, which has population 5527 and is centered at ( -098.3734379 , +34.2906760 )\n",
      "Node 62 is McCurtain County, which has population 30814 and is centered at ( -094.7660863 , +34.1170728 )\n",
      "Node 63 is Atoka County, which has population 14143 and is centered at ( -096.0365577 , +34.3924691 )\n",
      "Node 64 is Okmulgee County, which has population 36706 and is centered at ( -095.9659468 , +35.6435003 )\n",
      "Node 65 is Washington County, which has population 52455 and is centered at ( -095.9062525 , +36.7044030 )\n",
      "Node 66 is Seminole County, which has population 23556 and is centered at ( -096.6028575 , +35.1583657 )\n",
      "Node 67 is Woods County, which has population 8624 and is centered at ( -098.8636490 , +36.7269843 )\n",
      "Node 68 is Harmon County, which has population 2488 and is centered at ( -099.8441936 , +34.7459710 )\n",
      "Node 69 is Kay County, which has population 43700 and is centered at ( -097.1438616 , +36.8148851 )\n",
      "Node 70 is Blaine County, which has population 8735 and is centered at ( -098.4290308 , +35.8777951 )\n",
      "Node 71 is Pontotoc County, which has population 38065 and is centered at ( -096.6917804 , +34.7214152 )\n",
      "Node 72 is Creek County, which has population 71754 and is centered at ( -096.3801769 , +35.9073976 )\n",
      "Node 73 is Pottawatomie County, which has population 72454 and is centered at ( -096.9570036 , +35.2113915 )\n",
      "Node 74 is Kiowa County, which has population 8509 and is centered at ( -098.9816168 , +34.9214893 )\n",
      "Node 75 is Love County, which has population 10146 and is centered at ( -097.2450928 , +33.9578039 )\n",
      "Node 76 is Noble County, which has population 10924 and is centered at ( -097.2363345 , +36.3849010 )\n"
     ]
    }
   ],
   "source": [
    "# For each node, print the node #, county name, population, and lat-long coordinates\n",
    "for node in G.nodes:\n",
    "    name = G.nodes[node][\"NAME20\"]\n",
    "    population = G.nodes[node]['P0010001']\n",
    "    G.nodes[node]['TOTPOP'] = population\n",
    "    \n",
    "    # query lat and long coordinates \n",
    "    G.nodes[node]['C_X'] = G.nodes[node]['INTPTLON20']  # longitude of county's center\n",
    "    G.nodes[node]['C_Y'] = G.nodes[node]['INTPTLAT20']  # latitude of county's center\n",
    "        \n",
    "    print(\"Node\",node,\"is\",name,\"County, which has population\",population,\"and is centered at (\",G.nodes[node]['C_X'],\",\",G.nodes[node]['C_Y'],\")\")"
   ]
  },
  {
   "cell_type": "code",
   "execution_count": 4,
   "metadata": {},
   "outputs": [],
   "source": [
    "#pip install geopy"
   ]
  },
  {
   "cell_type": "code",
   "execution_count": 5,
   "metadata": {},
   "outputs": [
    {
     "name": "stdout",
     "output_type": "stream",
     "text": [
      "Payne -> Oklahoma: 43.618255585197396\n",
      "Oklahoma -> Tulsa: 91.1540938016197\n",
      "Tulsa -> Payne: 57.89479056828953\n"
     ]
    }
   ],
   "source": [
    "# what is the \"distance\" between Payne County (node 0), Oklahoma County (node 15), and Tulsa County (node 23)?\n",
    "from geopy.distance import geodesic\n",
    "\n",
    "# Store centroid location as ( lat, long )\n",
    "Payne = ( G.nodes[42]['C_Y'], G.nodes[42]['C_X'] )\n",
    "Oklahoma = ( G.nodes[6]['C_Y'], G.nodes[6]['C_X'] )\n",
    "Tulsa = ( G.nodes[34]['C_Y'], G.nodes[34]['C_X'] )\n",
    "\n",
    "# Print the distance in miles\n",
    "print(\"Payne -> Oklahoma:\", geodesic(Payne, Oklahoma).miles )\n",
    "print(\"Oklahoma -> Tulsa:\", geodesic(Oklahoma, Tulsa).miles )\n",
    "print(\"Tulsa -> Payne:\", geodesic(Tulsa, Payne).miles )"
   ]
  },
  {
   "cell_type": "code",
   "execution_count": 6,
   "metadata": {},
   "outputs": [],
   "source": [
    "# create distance dictionary\n",
    "dist = { (i,j) : 0 for i in G.nodes for j in G.nodes }\n",
    "for i in G.nodes:\n",
    "    for j in G.nodes:\n",
    "        loc_i = ( G.nodes[i]['C_Y'], G.nodes[i]['C_X'] )\n",
    "        loc_j = ( G.nodes[j]['C_Y'], G.nodes[j]['C_X'] )\n",
    "        dist[i,j] = geodesic(loc_i,loc_j).miles"
   ]
  },
  {
   "cell_type": "code",
   "execution_count": 7,
   "metadata": {},
   "outputs": [
    {
     "name": "stdout",
     "output_type": "stream",
     "text": [
      "Payne -> Oklahoma: 43.618255585197396\n"
     ]
    }
   ],
   "source": [
    "# check the dictionary by printing the Payne County -> Oklahoma County distance\n",
    "print(\"Payne -> Oklahoma:\",dist[42,6])"
   ]
  },
  {
   "cell_type": "code",
   "execution_count": 8,
   "metadata": {},
   "outputs": [
    {
     "name": "stdout",
     "output_type": "stream",
     "text": [
      "Using L = 783952 and U = 799789 and k = 5\n"
     ]
    }
   ],
   "source": [
    "# Let's impose a 2% population deviation (+/-1%)\n",
    "deviation = 0.02\n",
    "\n",
    "import math\n",
    "k = 5          # number of districts\n",
    "total_population = sum( G.nodes[node]['TOTPOP'] for node in G.nodes)\n",
    "\n",
    "L = math.ceil( ( 1 - deviation / 2 ) * total_population / k )\n",
    "U = math.floor( ( 1 + deviation / 2 ) * total_population / k )\n",
    "print(\"Using L =\",L,\"and U =\",U,\"and k =\",k)"
   ]
  },
  {
   "cell_type": "code",
   "execution_count": 9,
   "metadata": {},
   "outputs": [
    {
     "name": "stdout",
     "output_type": "stream",
     "text": [
      "Set parameter Username\n",
      "Academic license - for non-commercial use only - expires 2024-05-11\n"
     ]
    }
   ],
   "source": [
    "import gurobipy as gp\n",
    "from gurobipy import GRB\n",
    "\n",
    "# create model \n",
    "m = gp.Model()\n",
    "\n",
    "# create x[i,j] variable which equals one when county i \n",
    "#    is assigned to (the district centered at) county j\n",
    "x = m.addVars( G.nodes, G.nodes, vtype=GRB.BINARY )"
   ]
  },
  {
   "cell_type": "code",
   "execution_count": 10,
   "metadata": {},
   "outputs": [],
   "source": [
    "# objective is to minimize the moment of inertia: sum (d^2 * p * x over all i and j)\n",
    "m.setObjective( gp.quicksum( dist[i,j] * dist[i,j] * G.nodes[i]['TOTPOP'] * x[i,j] for i in G.nodes for j in G.nodes ), GRB.MINIMIZE )"
   ]
  },
  {
   "cell_type": "code",
   "execution_count": 11,
   "metadata": {},
   "outputs": [],
   "source": [
    "# add constraints saying that each county i is assigned to one district\n",
    "m.addConstrs( gp.quicksum( x[i,j] for j in G.nodes ) == 1 for i in G.nodes )\n",
    "\n",
    "# add constraint saying there should be k district centers\n",
    "m.addConstr( gp.quicksum( x[j,j] for j in G.nodes ) == k )\n",
    "\n",
    "# add constraints that say: if j roots a district, then its population is between L and U.\n",
    "m.addConstrs( gp.quicksum( G.nodes[i]['TOTPOP'] * x[i,j] for i in G.nodes ) >= L * x[j,j] for j in G.nodes )\n",
    "m.addConstrs( gp.quicksum( G.nodes[i]['TOTPOP'] * x[i,j] for i in G.nodes ) <= U * x[j,j] for j in G.nodes )\n",
    "\n",
    "# add coupling constraints saying that if i is assigned to j, then j is a center.\n",
    "m.addConstrs( x[i,j] <= x[j,j] for i in G.nodes for j in G.nodes )\n",
    "\n",
    "m.update()"
   ]
  },
  {
   "cell_type": "code",
   "execution_count": 12,
   "metadata": {},
   "outputs": [
    {
     "name": "stdout",
     "output_type": "stream",
     "text": [
      "Set parameter MIPGap to value 0\n",
      "Gurobi Optimizer version 10.0.1 build v10.0.1rc0 (win64)\n",
      "\n",
      "CPU model: Intel(R) Core(TM) i7-4790 CPU @ 3.60GHz, instruction set [SSE2|AVX|AVX2]\n",
      "Thread count: 4 physical cores, 8 logical processors, using up to 8 threads\n",
      "\n",
      "Optimize a model with 6161 rows, 5929 columns and 29568 nonzeros\n",
      "Model fingerprint: 0xda2784b7\n",
      "Variable types: 0 continuous, 5929 integer (5929 binary)\n",
      "Coefficient statistics:\n",
      "  Matrix range     [1e+00, 8e+05]\n",
      "  Objective range  [1e+06, 9e+10]\n",
      "  Bounds range     [1e+00, 1e+00]\n",
      "  RHS range        [1e+00, 5e+00]\n",
      "Warning: Model contains large objective coefficients\n",
      "         Consider reformulating model or setting NumericFocus parameter\n",
      "         to avoid numerical issues.\n",
      "Presolve removed 313 rows and 148 columns\n",
      "Presolve time: 0.09s\n",
      "Presolved: 5848 rows, 5781 columns, 29359 nonzeros\n",
      "Variable types: 0 continuous, 5781 integer (5781 binary)\n",
      "\n",
      "Root relaxation: objective 8.285528e+09, 2196 iterations, 0.32 seconds (0.52 work units)\n",
      "\n",
      "    Nodes    |    Current Node    |     Objective Bounds      |     Work\n",
      " Expl Unexpl |  Obj  Depth IntInf | Incumbent    BestBd   Gap | It/Node Time\n",
      "\n",
      "     0     0 8.2855e+09    0   68          - 8.2855e+09      -     -    0s\n",
      "H    0     0                    1.837483e+10 8.2855e+09  54.9%     -    0s\n",
      "H    0     0                    1.803014e+10 8.2855e+09  54.0%     -    0s\n",
      "H    0     0                    9.941243e+09 8.2855e+09  16.7%     -    0s\n",
      "H    0     0                    8.408524e+09 8.2855e+09  1.46%     -    0s\n",
      "     0     0 8.3544e+09    0  234 8.4085e+09 8.3544e+09  0.64%     -    0s\n",
      "     0     0 8.3544e+09    0   50 8.4085e+09 8.3544e+09  0.64%     -    0s\n",
      "     0     0 8.3544e+09    0   50 8.4085e+09 8.3544e+09  0.64%     -    0s\n",
      "     0     0 8.3758e+09    0  147 8.4085e+09 8.3758e+09  0.39%     -    0s\n",
      "     0     0 8.3779e+09    0  123 8.4085e+09 8.3779e+09  0.36%     -    0s\n",
      "     0     0 8.4085e+09    0  121 8.4085e+09 8.4085e+09  0.00%     -    0s\n",
      "\n",
      "Cutting planes:\n",
      "  Gomory: 2\n",
      "  Cover: 3\n",
      "  Clique: 1\n",
      "  MIR: 2\n",
      "  StrongCG: 3\n",
      "  GUB cover: 1\n",
      "\n",
      "Explored 1 nodes (2810 simplex iterations) in 1.00 seconds (0.88 work units)\n",
      "Thread count was 8 (of 8 available processors)\n",
      "\n",
      "Solution count 4: 8.40852e+09 9.94124e+09 1.80301e+10 1.83748e+10 \n",
      "\n",
      "Optimal solution found (tolerance 0.00e+00)\n",
      "Best objective 8.408524436390e+09, best bound 8.408524436390e+09, gap 0.0000%\n"
     ]
    }
   ],
   "source": [
    "# solve, making sure to set a 0.00% MIP gap tolerance\n",
    "m.Params.MIPGap = 0.0\n",
    "\n",
    "m.optimize()"
   ]
  },
  {
   "cell_type": "code",
   "execution_count": 13,
   "metadata": {},
   "outputs": [
    {
     "name": "stdout",
     "output_type": "stream",
     "text": [
      "8408524436.390146\n",
      "District 0 has population 796292 and contains counties ['Oklahoma']\n",
      "\n",
      "District 1 has population 794911 and contains counties ['Johnston', 'Comanche', 'Cleveland', 'Garvin', 'Tillman', 'Jefferson', 'Bryan', 'Stephens', 'Murray', 'Marshall', 'Carter', 'Cotton', 'Atoka', 'Seminole', 'Pontotoc', 'Pottawatomie', 'Love']\n",
      "\n",
      "District 2 has population 790979 and contains counties ['Craig', 'Osage', 'Tulsa', 'Nowata', 'Washington']\n",
      "\n",
      "District 3 has population 792948 and contains counties ['Washita', 'Jackson', 'Major', 'Custer', 'Ellis', 'Beckham', 'Logan', 'Pawnee', 'McClain', 'Beaver', 'Dewey', 'Roger Mills', 'Texas', 'Woodward', 'Kingfisher', 'Grant', 'Grady', 'Payne', 'Cimarron', 'Garfield', 'Canadian', 'Harper', 'Alfalfa', 'Lincoln', 'Caddo', 'Greer', 'Woods', 'Harmon', 'Kay', 'Blaine', 'Kiowa', 'Noble']\n",
      "\n",
      "District 4 has population 784223 and contains counties ['Delaware', 'Pushmataha', 'Wagoner', 'Cherokee', 'Pittsburg', 'Okfuskee', 'Le Flore', 'Choctaw', 'Latimer', 'McIntosh', 'Haskell', 'Adair', 'Sequoyah', 'Hughes', 'Muskogee', 'Ottawa', 'Rogers', 'Mayes', 'Coal', 'McCurtain', 'Okmulgee', 'Creek']\n",
      "\n"
     ]
    }
   ],
   "source": [
    "# print the objective value\n",
    "print(m.objVal)\n",
    "\n",
    "# retrieve the districts and their populations\n",
    "#    but first get the district \"centers\"\n",
    "\n",
    "centers = [ j for j in G.nodes if x[j,j].x > 0.5 ]\n",
    "\n",
    "districts = [ [ i for i in G.nodes if x[i,j].x > 0.5 ] for j in centers ]\n",
    "district_counties = [ [ G.nodes[i][\"NAME20\"] for i in districts[j] ] for j in range(k)]\n",
    "district_populations = [ sum(G.nodes[i][\"TOTPOP\"] for i in districts[j]) for j in range(k) ]\n",
    "\n",
    "# print district info\n",
    "for j in range(k):\n",
    "    print(\"District\",j,\"has population\",district_populations[j],\"and contains counties\",district_counties[j])\n",
    "    print(\"\")"
   ]
  },
  {
   "cell_type": "code",
   "execution_count": 14,
   "metadata": {},
   "outputs": [],
   "source": [
    "# Let's draw it on a map\n",
    "import geopandas as gpd"
   ]
  },
  {
   "cell_type": "code",
   "execution_count": 15,
   "metadata": {},
   "outputs": [],
   "source": [
    "# Read Oklahoma county shapefile from \"OK_county.shp\"\n",
    "filepath = 'districting-data\\\\'\n",
    "filename = 'OK_county.shp'\n",
    "\n",
    "# Read geopandas dataframe from file\n",
    "df = gpd.read_file( filepath + filename )"
   ]
  },
  {
   "cell_type": "code",
   "execution_count": 16,
   "metadata": {},
   "outputs": [
    {
     "data": {
      "image/png": "[encoded data removed]",
      "text/plain": [
       "<Figure size 432x288 with 1 Axes>"
      ]
     },
     "metadata": {
      "needs_background": "light"
     },
     "output_type": "display_data"
    }
   ],
   "source": [
    "# Which district is each county assigned to?\n",
    "assignment = [ -1 for i in G.nodes ]\n",
    "\n",
    "labeling = { i : -1 for i in G.nodes }\n",
    "for j in range(k):\n",
    "    district = districts[j]\n",
    "    for i in district:\n",
    "        labeling[i] = j\n",
    "\n",
    "# Now add the assignments to a column of the dataframe and map it\n",
    "node_with_this_geoid = { G.nodes[i]['GEOID20'] : i for i in G.nodes }\n",
    "\n",
    "# pick a position u in the dataframe\n",
    "for u in range(G.number_of_nodes()):\n",
    "    \n",
    "    geoid = df['GEOID20'][u]\n",
    "    \n",
    "    # what node in G has this geoid?\n",
    "    i = node_with_this_geoid[geoid]\n",
    "    \n",
    "    # position u in the dataframe should be given\n",
    "    # the same district # that county i has in 'labeling'\n",
    "    assignment[u] = labeling[i]\n",
    "    \n",
    "# now add the assignments to a column of our dataframe and then map it\n",
    "df['assignment'] = assignment\n",
    "\n",
    "my_fig = df.plot(column='assignment').get_figure()"
   ]
  },
  {
   "cell_type": "code",
   "execution_count": null,
   "metadata": {},
   "outputs": [],
   "source": []
  }
 ],
 "metadata": {
  "kernelspec": {
   "display_name": "Python 3",
   "language": "python",
   "name": "python3"
  },
  "language_info": {
   "codemirror_mode": {
    "name": "ipython",
    "version": 3
   },
   "file_extension": ".py",
   "mimetype": "text/x-python",
   "name": "python",
   "nbconvert_exporter": "python",
   "pygments_lexer": "ipython3",
   "version": "3.7.10"
  }
 },
 "nbformat": 4,
 "nbformat_minor": 4
}
