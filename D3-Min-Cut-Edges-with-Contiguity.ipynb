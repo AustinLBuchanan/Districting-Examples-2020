{
 "cells": [
  {
   "cell_type": "code",
   "execution_count": 1,
   "metadata": {},
   "outputs": [],
   "source": [
    "import json\n",
    "from networkx.readwrite import json_graph\n",
    "\n",
    "def read_graph_from_json(json_file):\n",
    "    with open(json_file) as f:\n",
    "        data = json.load(f)\n",
    "    return json_graph.adjacency_graph(data) "
   ]
  },
  {
   "cell_type": "code",
   "execution_count": 2,
   "metadata": {},
   "outputs": [],
   "source": [
    "# Read Oklahoma county graph from the json file \"OK_county.json\"\n",
    "filepath = 'districting-data\\\\'\n",
    "filename = 'OK_county.json'\n",
    "\n",
    "G = read_graph_from_json( filepath + filename )"
   ]
  },
  {
   "cell_type": "code",
   "execution_count": 3,
   "metadata": {},
   "outputs": [],
   "source": [
    "for node in G.nodes:\n",
    "    G.nodes[node]['TOTPOP'] = G.nodes[node]['P0010001']"
   ]
  },
  {
   "cell_type": "code",
   "execution_count": 4,
   "metadata": {},
   "outputs": [
    {
     "name": "stdout",
     "output_type": "stream",
     "text": [
      "Using L = 783952 and U = 799789 and k = 5\n"
     ]
    }
   ],
   "source": [
    "# Let's impose a 2% population deviation (+/-1%)\n",
    "deviation = 0.02\n",
    "\n",
    "import math\n",
    "k = 5          # number of districts\n",
    "total_population = sum( G.nodes[node]['TOTPOP'] for node in G.nodes )\n",
    "\n",
    "L = math.ceil( ( 1 - deviation / 2 ) * total_population / k )\n",
    "U = math.floor( ( 1 + deviation / 2 ) * total_population / k )\n",
    "print(\"Using L =\",L,\"and U =\",U,\"and k =\",k)"
   ]
  },
  {
   "cell_type": "code",
   "execution_count": 5,
   "metadata": {},
   "outputs": [
    {
     "name": "stdout",
     "output_type": "stream",
     "text": [
      "Set parameter Username\n",
      "Academic license - for non-commercial use only - expires 2024-05-11\n"
     ]
    }
   ],
   "source": [
    "import gurobipy as gp\n",
    "from gurobipy import GRB\n",
    "\n",
    "# create model \n",
    "m = gp.Model()\n",
    "\n",
    "# create variables\n",
    "x = m.addVars(G.nodes, k, vtype=GRB.BINARY) # x[i,j] equals one when county i is assigned to district j\n",
    "y = m.addVars(G.edges, vtype=GRB.BINARY)    # y[u,v] equals one when edge {u,v} is cut"
   ]
  },
  {
   "cell_type": "code",
   "execution_count": 6,
   "metadata": {},
   "outputs": [],
   "source": [
    "# objective is to minimize cut edges\n",
    "m.setObjective( gp.quicksum( y[u,v] for u,v in G.edges ), GRB.MINIMIZE )"
   ]
  },
  {
   "cell_type": "code",
   "execution_count": 7,
   "metadata": {},
   "outputs": [],
   "source": [
    "# add constraints saying that each county i is assigned to one district\n",
    "m.addConstrs( gp.quicksum(x[i,j] for j in range(k)) == 1 for i in G.nodes)\n",
    "\n",
    "# add constraints saying that each district has population at least L and at most U\n",
    "m.addConstrs( gp.quicksum( G.nodes[i]['TOTPOP'] * x[i,j] for i in G.nodes) >= L for j in range(k) )\n",
    "m.addConstrs( gp.quicksum( G.nodes[i]['TOTPOP'] * x[i,j] for i in G.nodes) <= U for j in range(k) )\n",
    "\n",
    "# add constraints saying that edge {u,v} is cut if u is assigned to district j but v is not.\n",
    "m.addConstrs( x[u,j] - x[v,j] <= y[u,v] for u,v in G.edges for j in range(k))\n",
    "\n",
    "m.update()"
   ]
  },
  {
   "cell_type": "code",
   "execution_count": 8,
   "metadata": {},
   "outputs": [],
   "source": [
    "# Now, let's add contiguity constraints and re-solve the model.\n",
    "# We will use the contiguity constraints of Hojny et al. (MPC, 2021)\n",
    "#   https://link.springer.com/article/10.1007/s12532-020-00186-3\n",
    "\n",
    "# Add root variables: r[i,j] equals 1 if node i is the \"root\" of district j\n",
    "r = m.addVars( G.nodes, k, vtype=GRB.BINARY )\n",
    "\n",
    "# Add flow variables: f[u,v] = amount of flow sent across arc uv \n",
    "#  Flows are sent across arcs of the directed version of G which we call DG\n",
    "\n",
    "import networkx as nx\n",
    "DG = nx.DiGraph(G)      # directed version of G\n",
    "\n",
    "f = m.addVars( DG.edges )"
   ]
  },
  {
   "cell_type": "code",
   "execution_count": 9,
   "metadata": {},
   "outputs": [],
   "source": [
    "# The big-M proposed by Hojny et al.\n",
    "M = G.number_of_nodes() - k + 1\n",
    "\n",
    "# Each district j should have one root\n",
    "m.addConstrs( gp.quicksum( r[i,j] for i in G.nodes ) == 1 for j in range(k) )\n",
    "\n",
    "# If node i is not assigned to district j, then it cannot be its root\n",
    "m.addConstrs( r[i,j] <= x[i,j] for i in G.nodes for j in range(k) ) \n",
    "\n",
    "# if not a root, consume some flow.\n",
    "# if a root, only send out (so much) flow.\n",
    "m.addConstrs( gp.quicksum( f[j,i] - f[i,j] for j in G.neighbors(i) ) \n",
    "             >= 1 - M * gp.quicksum( r[i,j] for j in range(k) ) for i in G.nodes )\n",
    "\n",
    "# do not send flow across cut edges\n",
    "m.addConstrs( f[i,j] + f[j,i] <= M * ( 1 - y[i,j] ) for i,j in G.edges )\n",
    "\n",
    "m.update()"
   ]
  },
  {
   "cell_type": "code",
   "execution_count": 10,
   "metadata": {},
   "outputs": [
    {
     "name": "stdout",
     "output_type": "stream",
     "text": [
      "Gurobi Optimizer version 10.0.1 build v10.0.1rc0 (win64)\n",
      "\n",
      "CPU model: Intel(R) Core(TM) i7-4790 CPU @ 3.60GHz, instruction set [SSE2|AVX|AVX2]\n",
      "Thread count: 4 physical cores, 8 logical processors, using up to 8 threads\n",
      "\n",
      "Optimize a model with 1724 rows, 1355 columns and 6985 nonzeros\n",
      "Model fingerprint: 0xa3b26382\n",
      "Variable types: 390 continuous, 965 integer (965 binary)\n",
      "Coefficient statistics:\n",
      "  Matrix range     [1e+00, 8e+05]\n",
      "  Objective range  [1e+00, 1e+00]\n",
      "  Bounds range     [1e+00, 1e+00]\n",
      "  RHS range        [1e+00, 8e+05]\n",
      "Presolve removed 5 rows and 5 columns\n",
      "Presolve time: 0.03s\n",
      "Presolved: 1719 rows, 1350 columns, 6945 nonzeros\n",
      "Variable types: 390 continuous, 960 integer (960 binary)\n",
      "\n",
      "Root relaxation: objective 4.000000e+00, 651 iterations, 0.02 seconds (0.02 work units)\n",
      "\n",
      "    Nodes    |    Current Node    |     Objective Bounds      |     Work\n",
      " Expl Unexpl |  Obj  Depth IntInf | Incumbent    BestBd   Gap | It/Node Time\n",
      "\n",
      "     0     0    4.00000    0  410          -    4.00000      -     -    0s\n",
      "     0     0    5.00000    0  324          -    5.00000      -     -    0s\n",
      "     0     0    5.75769    0  418          -    5.75769      -     -    0s\n",
      "     0     0    8.67486    0  322          -    8.67486      -     -    0s\n",
      "     0     0    8.68598    0  324          -    8.68598      -     -    0s\n",
      "     0     0    9.36767    0  333          -    9.36767      -     -    0s\n",
      "     0     0    9.44669    0  335          -    9.44669      -     -    0s\n",
      "     0     0    9.46754    0  334          -    9.46754      -     -    0s\n",
      "     0     0    9.46820    0  337          -    9.46820      -     -    0s\n",
      "     0     0    9.52122    0  330          -    9.52122      -     -    0s\n",
      "     0     0    9.52438    0  330          -    9.52438      -     -    0s\n",
      "     0     0    9.53033    0  331          -    9.53033      -     -    0s\n",
      "     0     0    9.53338    0  332          -    9.53338      -     -    0s\n",
      "     0     0    9.53338    0  334          -    9.53338      -     -    1s\n",
      "     0     0    9.53338    0  334          -    9.53338      -     -    1s\n",
      "     0     0    9.54414    0  314          -    9.54414      -     -    1s\n",
      "     0     0    9.63576    0  335          -    9.63576      -     -    1s\n",
      "     0     0    9.72079    0  328          -    9.72079      -     -    1s\n",
      "     0     0    9.75458    0  326          -    9.75458      -     -    1s\n",
      "     0     0    9.76208    0  326          -    9.76208      -     -    1s\n",
      "     0     0    9.82364    0  328          -    9.82364      -     -    1s\n",
      "     0     0    9.82924    0  327          -    9.82924      -     -    1s\n",
      "     0     0    9.82924    0  327          -    9.82924      -     -    1s\n",
      "     0     0   10.27922    0  329          -   10.27922      -     -    1s\n",
      "     0     0   10.27922    0  333          -   10.27922      -     -    1s\n",
      "     0     0   10.27922    0  328          -   10.27922      -     -    1s\n",
      "     0     0   10.27922    0  336          -   10.27922      -     -    1s\n",
      "     0     0   10.27922    0  336          -   10.27922      -     -    1s\n",
      "     0     0   10.27922    0  332          -   10.27922      -     -    2s\n",
      "     0     0   10.27922    0  332          -   10.27922      -     -    2s\n",
      "     0     2   10.27922    0  332          -   10.27922      -     -    2s\n",
      "  1035   907   29.94797   26  329          -   15.48095      -   110    5s\n",
      "  2381  1730   22.75643   24  320          -   16.05052      -   123   10s\n",
      "  5555  4046   40.36737   38   92          -   20.74926      -   111   15s\n",
      "  9922  7946   40.10755   30  194          -   21.88148      -   102   20s\n",
      " 15803 12388   40.75350   31  213          -   22.80893      -  97.2   25s\n",
      "H15814  9622                      55.0000000   22.80893  58.5%  97.3   25s\n",
      "H15845  5224                      46.0000000   22.80893  50.4%  97.4   27s\n",
      "H15885  3186                      41.0000000   22.85909  44.2%  97.4   27s\n",
      " 17627  4230   30.05731   29  229   41.00000   23.77940  42.0%   102   30s\n",
      "H18975  4371                      40.0000000   24.08055  39.8%   105   33s\n",
      "H19155  4104                      39.0000000   24.21079  37.9%   105   34s\n",
      " 19534  4345   28.61900   29  203   39.00000   24.35692  37.5%   107   36s\n",
      " 21575  5130   29.09336   27  260   39.00000   25.12759  35.6%   110   40s\n",
      " 24780  6261   30.35595   30  308   39.00000   26.05959  33.2%   114   45s\n",
      " 27318  7015     cutoff   31        39.00000   26.55519  31.9%   117   50s\n",
      " 30063  7534   35.83868   31  261   39.00000   27.03667  30.7%   118   65s\n",
      " 32833  8004   36.97004   36  222   39.00000   27.40713  29.7%   121   71s\n",
      " 34427  8391   35.49254   36  318   39.00000   27.58232  29.3%   123   76s\n",
      " 36908  8822   35.08621   29  335   39.00000   27.89813  28.5%   126   81s\n",
      " 39272  9245   36.31620   30  218   39.00000   28.24995  27.6%   128   85s\n",
      " 41769  9621     cutoff   34        39.00000   28.54473  26.8%   130   90s\n",
      " 43953  9956     cutoff   31        39.00000   28.89348  25.9%   132   95s\n",
      " 46319 10256     cutoff   30        39.00000   29.11594  25.3%   133  100s\n",
      " 48665 10543   37.83475   30  166   39.00000   29.41940  24.6%   134  105s\n",
      " 51873 10961   37.29596   29  254   39.00000   29.76349  23.7%   135  112s\n",
      " 53563 11142     cutoff   28        39.00000   29.93191  23.3%   136  115s\n",
      " 55813 11352   36.42300   32  294   39.00000   30.19636  22.6%   137  120s\n",
      " 59353 11620     cutoff   38        39.00000   30.51650  21.8%   137  126s\n",
      " 61791 11827   37.81121   31  193   39.00000   30.72771  21.2%   138  130s\n",
      " 63930 11940     cutoff   33        39.00000   30.93648  20.7%   138  136s\n",
      " 66531 12106     cutoff   35        39.00000   31.13900  20.2%   138  140s\n",
      " 68948 12188     cutoff   31        39.00000   31.32866  19.7%   139  145s\n",
      " 72368 12398   34.98863   32  252   39.00000   31.59885  19.0%   139  150s\n",
      " 75619 12527   34.33116   31  301   39.00000   31.83097  18.4%   139  156s\n",
      " 78193 12641     cutoff   36        39.00000   32.01376  17.9%   139  160s\n",
      " 81712 12717   35.12536   31  221   39.00000   32.24260  17.3%   138  166s\n",
      " 84311 12743   34.26493   29  240   39.00000   32.42629  16.9%   138  170s\n",
      " 87717 12785     cutoff   31        39.00000   32.63614  16.3%   138  175s\n",
      " 91221 12780     cutoff   31        39.00000   32.82385  15.8%   138  181s\n",
      " 93690 12746     cutoff   34        39.00000   32.96410  15.5%   137  185s\n",
      " 97055 12726   35.82346   28  335   39.00000   33.13320  15.0%   137  190s\n",
      " 100355 12724     cutoff   37        39.00000   33.32906  14.5%   136  195s\n",
      " 103667 12580   37.67436   31  230   39.00000   33.52088  14.0%   136  200s\n",
      " 107321 12432     cutoff   41        39.00000   33.70918  13.6%   135  205s\n",
      " 111548 12164   37.80458   35  207   39.00000   33.93097  13.0%   135  210s\n",
      " 115056 11979     cutoff   31        39.00000   34.10488  12.6%   134  215s\n",
      " 119166 11656   36.80942   32  207   39.00000   34.29911  12.1%   133  220s\n",
      " 123693 11318   36.67157   35  268   39.00000   34.51205  11.5%   132  225s\n",
      " 128026 10896   36.93252   33  168   39.00000   34.70878  11.0%   131  230s\n",
      " 130864 10519   36.44928   31  290   39.00000   34.82816  10.7%   130  235s\n",
      " 135672  9979     cutoff   31        39.00000   35.07246  10.1%   129  240s\n",
      " 140140  9313   37.68617   30  236   39.00000   35.28894  9.52%   128  245s\n",
      " 145560  8232     cutoff   34        39.00000   35.57484  8.78%   126  250s\n",
      " 150825  7021   37.93559   39  262   39.00000   35.83491  8.12%   125  255s\n",
      " 156784  5336     cutoff   31        39.00000   36.18772  7.21%   123  260s\n",
      " 162487  3123     cutoff   36        39.00000   36.63979  6.05%   121  265s\n",
      "\n",
      "Cutting planes:\n",
      "  Gomory: 21\n",
      "  Cover: 2\n",
      "  MIR: 3\n",
      "  Flow cover: 26\n",
      "  Zero half: 4\n",
      "  RLT: 114\n",
      "  Relax-and-lift: 1\n",
      "\n",
      "Explored 167995 nodes (19963147 simplex iterations) in 268.75 seconds (336.49 work units)\n",
      "Thread count was 8 (of 8 available processors)\n",
      "\n",
      "Solution count 6: 39 39 40 ... 55\n",
      "\n",
      "Optimal solution found (tolerance 1.00e-04)\n",
      "Best objective 3.900000000000e+01, best bound 3.900000000000e+01, gap 0.0000%\n"
     ]
    }
   ],
   "source": [
    "# solve IP model\n",
    "m.optimize()"
   ]
  },
  {
   "cell_type": "code",
   "execution_count": 11,
   "metadata": {},
   "outputs": [
    {
     "name": "stdout",
     "output_type": "stream",
     "text": [
      "The number of cut edges is 39.0\n",
      "District 0 has population 795964 and contains counties ['Washita', 'Jackson', 'Major', 'Custer', 'Ellis', 'Comanche', 'Beckham', 'Garvin', 'Tillman', 'Jefferson', 'Beaver', 'Dewey', 'Roger Mills', 'Texas', 'Woodward', 'Stephens', 'Kingfisher', 'Grant', 'Murray', 'Grady', 'Cimarron', 'Garfield', 'Canadian', 'Harper', 'Alfalfa', 'Caddo', 'Carter', 'Greer', 'Cotton', 'Woods', 'Harmon', 'Blaine', 'Kiowa', 'Love']\n",
      "\n",
      "District 1 has population 796292 and contains counties ['Oklahoma']\n",
      "\n",
      "District 2 has population 788002 and contains counties ['Cleveland', 'Logan', 'Okfuskee', 'McClain', 'McIntosh', 'Payne', 'Lincoln', 'Hughes', 'Okmulgee', 'Seminole', 'Pontotoc', 'Creek', 'Pottawatomie']\n",
      "\n",
      "District 3 has population 785274 and contains counties ['Osage', 'Pawnee', 'Tulsa', 'Kay', 'Noble']\n",
      "\n",
      "District 4 has population 793821 and contains counties ['Delaware', 'Johnston', 'Pushmataha', 'Wagoner', 'Craig', 'Cherokee', 'Pittsburg', 'Le Flore', 'Choctaw', 'Bryan', 'Latimer', 'Nowata', 'Haskell', 'Adair', 'Sequoyah', 'Marshall', 'Muskogee', 'Ottawa', 'Rogers', 'Mayes', 'Coal', 'McCurtain', 'Atoka', 'Washington']\n",
      "\n"
     ]
    }
   ],
   "source": [
    "print(\"The number of cut edges is\",m.objval)\n",
    "\n",
    "# retrieve the districts and their populations\n",
    "districts = [ [i for i in G.nodes if x[i,j].x > 0.5] for j in range(k)]\n",
    "district_counties = [ [ G.nodes[i][\"NAME20\"] for i in districts[j] ] for j in range(k)]\n",
    "district_populations = [ sum(G.nodes[i][\"TOTPOP\"] for i in districts[j]) for j in range(k) ]\n",
    "\n",
    "# print district info\n",
    "for j in range(k):\n",
    "    print(\"District\",j,\"has population\",district_populations[j],\"and contains counties\",district_counties[j])\n",
    "    print(\"\")"
   ]
  },
  {
   "cell_type": "code",
   "execution_count": 12,
   "metadata": {},
   "outputs": [
    {
     "name": "stdout",
     "output_type": "stream",
     "text": [
      "Discarded solution information\n",
      "Gurobi Optimizer version 10.0.1 build v10.0.1rc0 (win64)\n",
      "\n",
      "CPU model: Intel(R) Core(TM) i7-4790 CPU @ 3.60GHz, instruction set [SSE2|AVX|AVX2]\n",
      "Thread count: 4 physical cores, 8 logical processors, using up to 8 threads\n",
      "\n",
      "Optimize a model with 1724 rows, 1355 columns and 6985 nonzeros\n",
      "Model fingerprint: 0xa68f3122\n",
      "Variable types: 390 continuous, 965 integer (965 binary)\n",
      "Coefficient statistics:\n",
      "  Matrix range     [1e+00, 8e+05]\n",
      "  Objective range  [1e+00, 1e+00]\n",
      "  Bounds range     [1e+00, 1e+00]\n",
      "  RHS range        [1e+00, 8e+05]\n",
      "Presolve removed 521 rows and 353 columns\n",
      "Presolve time: 0.02s\n",
      "Presolved: 1203 rows, 1002 columns, 4943 nonzeros\n",
      "Variable types: 380 continuous, 622 integer (622 binary)\n",
      "\n",
      "Root relaxation: objective 1.632442e+01, 932 iterations, 0.03 seconds (0.03 work units)\n",
      "\n",
      "    Nodes    |    Current Node    |     Objective Bounds      |     Work\n",
      " Expl Unexpl |  Obj  Depth IntInf | Incumbent    BestBd   Gap | It/Node Time\n",
      "\n",
      "     0     0   16.32442    0  315          -   16.32442      -     -    0s\n",
      "     0     0   17.08010    0  256          -   17.08010      -     -    0s\n",
      "     0     0   17.11745    0  260          -   17.11745      -     -    0s\n",
      "     0     0   17.12819    0  262          -   17.12819      -     -    0s\n",
      "     0     0   17.75985    0  384          -   17.75985      -     -    0s\n",
      "     0     0   17.85332    0  407          -   17.85332      -     -    0s\n",
      "     0     0   17.86051    0  403          -   17.86051      -     -    0s\n",
      "     0     0   17.86051    0  403          -   17.86051      -     -    0s\n",
      "     0     0   18.11902    0  390          -   18.11902      -     -    0s\n",
      "     0     0   18.16594    0  401          -   18.16594      -     -    0s\n",
      "     0     0   18.17336    0  399          -   18.17336      -     -    0s\n",
      "     0     0   18.17481    0  398          -   18.17481      -     -    0s\n",
      "     0     0   18.17490    0  400          -   18.17490      -     -    0s\n",
      "     0     0   18.38420    0  403          -   18.38420      -     -    0s\n",
      "     0     0   18.39021    0  398          -   18.39021      -     -    0s\n",
      "     0     0   18.39228    0  398          -   18.39228      -     -    1s\n",
      "     0     0   18.39314    0  404          -   18.39314      -     -    1s\n",
      "     0     0   18.41806    0  407          -   18.41806      -     -    1s\n",
      "     0     0   18.42699    0  403          -   18.42699      -     -    1s\n",
      "     0     0   18.42797    0  406          -   18.42797      -     -    1s\n",
      "     0     0   18.43609    0  411          -   18.43609      -     -    1s\n",
      "     0     0   18.43721    0  402          -   18.43721      -     -    1s\n",
      "     0     0   18.43858    0  400          -   18.43858      -     -    1s\n",
      "     0     0   18.43858    0  399          -   18.43858      -     -    1s\n",
      "     0     2   18.43858    0  397          -   18.43858      -     -    1s\n",
      "H  400   256                      41.0000000   21.68888  47.1%   137    3s\n",
      "  1057   649   36.54735   27  399   41.00000   25.80341  37.1%   128    5s\n",
      "H 1470   842                      40.0000000   25.80341  35.5%   133    8s\n",
      "H 2121   923                      39.0000000   25.80341  33.8%   123    9s\n",
      "  2202   975   33.01921   28  224   39.00000   25.80341  33.8%   123   10s\n",
      "  5433  2254     cutoff   35        39.00000   27.47567  29.5%   103   15s\n",
      "  9201  3903     cutoff   31        39.00000   28.87878  26.0%  95.9   20s\n",
      " 13751  5454   37.21883   28  277   39.00000   30.02864  23.0%  90.8   25s\n",
      " 17879  6863   36.12677   27  246   39.00000   30.65407  21.4%  88.3   30s\n",
      " 23465  8270   33.80326   26  276   39.00000   31.33243  19.7%  85.6   35s\n",
      " 28550  9447   35.29387   27  226   39.00000   31.85200  18.3%  83.8   40s\n",
      " 30304  9832   37.88360   34  193   39.00000   32.04231  17.8%  83.2   51s\n",
      " 33988 10262     cutoff   39        39.00000   32.34117  17.1%  83.5   55s\n",
      " 38263 10686   37.37674   26  302   39.00000   32.69260  16.2%  85.1   60s\n",
      " 42316 11055   37.73787   31  205   39.00000   32.99475  15.4%  85.8   65s\n",
      " 46073 11268   37.20812   28  293   39.00000   33.27099  14.7%  86.8   70s\n",
      " 50020 11397   34.78041   27  244   39.00000   33.54757  14.0%  87.6   75s\n",
      " 54029 11401     cutoff   28        39.00000   33.83912  13.2%  88.5   80s\n",
      " 57823 11238     cutoff   30        39.00000   34.09953  12.6%  89.2   85s\n",
      " 61711 10975     cutoff   31        39.00000   34.39295  11.8%  90.1   90s\n",
      " 65829 10548   35.71237   31  193   39.00000   34.71626  11.0%  90.8   95s\n",
      " 69804  9949   36.97933   31  265   39.00000   35.03446  10.2%  91.5  100s\n",
      " 73030  9373     cutoff   31        39.00000   35.28525  9.52%  91.9  105s\n",
      " 77080  8243   37.26629   38  275   39.00000   35.61999  8.67%  92.4  110s\n",
      " 81454  6767     cutoff   48        39.00000   35.98707  7.73%  92.5  115s\n",
      " 85082  5545     cutoff   29        39.00000   36.31210  6.89%  92.4  120s\n",
      " 89486  2605     cutoff   44        39.00000   36.76674  5.73%  91.8  125s\n",
      "\n",
      "Cutting planes:\n",
      "  Cover: 4\n",
      "  Flow cover: 29\n",
      "  Zero half: 5\n",
      "  RLT: 125\n",
      "\n",
      "Explored 93829 nodes (8447755 simplex iterations) in 127.40 seconds (169.82 work units)\n",
      "Thread count was 8 (of 8 available processors)\n",
      "\n",
      "Solution count 4: 39 39 40 41 \n",
      "\n",
      "Optimal solution found (tolerance 1.00e-04)\n",
      "Best objective 3.900000000000e+01, best bound 3.900000000000e+01, gap 0.0000%\n"
     ]
    }
   ],
   "source": [
    "# To solve the MIP faster, let's fix some district roots:\n",
    "\n",
    "r[6,0].LB = 1  # Fix Oklahoma County as root of district 0\n",
    "r[34,1].LB = 1 # Fix Tulsa County as root of district 1\n",
    "r[8,2].LB = 1  # Fix Comanche County as root of district 2\n",
    "\n",
    "m.reset()      # Force Gurobi to start solving 'from scratch'\n",
    "m.optimize()"
   ]
  },
  {
   "cell_type": "code",
   "execution_count": 13,
   "metadata": {},
   "outputs": [
    {
     "name": "stdout",
     "output_type": "stream",
     "text": [
      "The number of cut edges is 39.0\n",
      "District 0 has population 796292 and contains counties ['Oklahoma']\n",
      "\n",
      "District 1 has population 786966 and contains counties ['Wagoner', 'Tulsa', 'Okmulgee']\n",
      "\n",
      "District 2 has population 785923 and contains counties ['Washita', 'Jackson', 'Major', 'Custer', 'Ellis', 'Comanche', 'Beckham', 'Garvin', 'Tillman', 'Jefferson', 'McClain', 'Beaver', 'Dewey', 'Roger Mills', 'Texas', 'Woodward', 'Stephens', 'Kingfisher', 'Murray', 'Grady', 'Cimarron', 'Canadian', 'Marshall', 'Harper', 'Alfalfa', 'Caddo', 'Carter', 'Greer', 'Cotton', 'Woods', 'Harmon', 'Blaine', 'Kiowa', 'Love']\n",
      "\n",
      "District 3 has population 798715 and contains counties ['Cleveland', 'Osage', 'Logan', 'Pawnee', 'Okfuskee', 'Grant', 'Payne', 'Garfield', 'Lincoln', 'Kay', 'Creek', 'Pottawatomie', 'Noble']\n",
      "\n",
      "District 4 has population 791457 and contains counties ['Delaware', 'Johnston', 'Pushmataha', 'Craig', 'Cherokee', 'Pittsburg', 'Le Flore', 'Choctaw', 'Bryan', 'Latimer', 'McIntosh', 'Nowata', 'Haskell', 'Adair', 'Sequoyah', 'Hughes', 'Muskogee', 'Ottawa', 'Rogers', 'Mayes', 'Coal', 'McCurtain', 'Atoka', 'Washington', 'Seminole', 'Pontotoc']\n",
      "\n"
     ]
    }
   ],
   "source": [
    "print(\"The number of cut edges is\",m.objval)\n",
    "\n",
    "# retrieve the districts and their populations\n",
    "districts = [ [i for i in G.nodes if x[i,j].x > 0.5] for j in range(k)]\n",
    "district_counties = [ [ G.nodes[i][\"NAME20\"] for i in districts[j] ] for j in range(k)]\n",
    "district_populations = [ sum(G.nodes[i][\"TOTPOP\"] for i in districts[j]) for j in range(k) ]\n",
    "\n",
    "# print district info\n",
    "for j in range(k):\n",
    "    print(\"District\",j,\"has population\",district_populations[j],\"and contains counties\",district_counties[j])\n",
    "    print(\"\")"
   ]
  },
  {
   "cell_type": "code",
   "execution_count": 14,
   "metadata": {},
   "outputs": [],
   "source": [
    "# Let's draw it on a map\n",
    "import geopandas as gpd"
   ]
  },
  {
   "cell_type": "code",
   "execution_count": 15,
   "metadata": {},
   "outputs": [],
   "source": [
    "# Read Oklahoma county shapefile from \"OK_county.shp\"\n",
    "filepath = 'districting-data\\\\'\n",
    "filename = 'OK_county.shp'\n",
    "\n",
    "# Read geopandas dataframe from file\n",
    "df = gpd.read_file( filepath + filename )"
   ]
  },
  {
   "cell_type": "code",
   "execution_count": 16,
   "metadata": {},
   "outputs": [
    {
     "data": {
      "image/png": "[encoded data removed]",
      "text/plain": [
       "<Figure size 432x288 with 1 Axes>"
      ]
     },
     "metadata": {
      "needs_background": "light"
     },
     "output_type": "display_data"
    }
   ],
   "source": [
    "# Which district is each county assigned to?\n",
    "assignment = [ -1 for i in G.nodes ]\n",
    "\n",
    "labeling = { i : j for i in G.nodes for j in range(k) if x[i,j].x > 0.5 }\n",
    "\n",
    "# Now add the assignments to a column of the dataframe and map it\n",
    "node_with_this_geoid = { G.nodes[i]['GEOID20'] : i for i in G.nodes }\n",
    "\n",
    "# pick a position u in the dataframe\n",
    "for u in range(G.number_of_nodes()):\n",
    "    \n",
    "    geoid = df['GEOID20'][u]\n",
    "    \n",
    "    # what node in G has this geoid?\n",
    "    i = node_with_this_geoid[geoid]\n",
    "    \n",
    "    # position u in the dataframe should be given\n",
    "    # the same district # that county i has in 'labeling'\n",
    "    assignment[u] = labeling[i]\n",
    "    \n",
    "# now add the assignments to a column of our dataframe and then map it\n",
    "df['assignment'] = assignment\n",
    "\n",
    "my_fig = df.plot(column='assignment').get_figure()"
   ]
  },
  {
   "cell_type": "code",
   "execution_count": null,
   "metadata": {},
   "outputs": [],
   "source": []
  }
 ],
 "metadata": {
  "kernelspec": {
   "display_name": "Python 3",
   "language": "python",
   "name": "python3"
  },
  "language_info": {
   "codemirror_mode": {
    "name": "ipython",
    "version": 3
   },
   "file_extension": ".py",
   "mimetype": "text/x-python",
   "name": "python",
   "nbconvert_exporter": "python",
   "pygments_lexer": "ipython3",
   "version": "3.7.10"
  }
 },
 "nbformat": 4,
 "nbformat_minor": 4
}
