{
 "cells": [
  {
   "cell_type": "code",
   "execution_count": 1,
   "metadata": {},
   "outputs": [],
   "source": [
    "# GerryChain is a library for using Markov Chain Monte Carlo methods to study the problem of political redistricting. \n",
    "#   Development of the library began during the 2018 Voting Rights Data Institute (VRDI).\n",
    "#\n",
    "# Install instructions: https://gerrychain.readthedocs.io/en/latest/user/install.html\n",
    "\n",
    "from gerrychain import Graph\n",
    "\n",
    "# Read Oklahoma county graph from the json file \"OK_county.json\"\n",
    "filepath = 'districting-data\\\\'\n",
    "filename = 'OK_county.json'\n",
    "\n",
    "# GerryChain has a built-in function for reading graphs of this type:\n",
    "G = Graph.from_json( filepath + filename )"
   ]
  },
  {
   "cell_type": "code",
   "execution_count": 2,
   "metadata": {},
   "outputs": [
    {
     "name": "stdout",
     "output_type": "stream",
     "text": [
      "Node 0 represents Washita County, which had a population of 10924 in the 2020 census.\n",
      "Node 1 represents Jackson County, which had a population of 24785 in the 2020 census.\n",
      "Node 2 represents Major County, which had a population of 7782 in the 2020 census.\n",
      "Node 3 represents Delaware County, which had a population of 40397 in the 2020 census.\n",
      "Node 4 represents Custer County, which had a population of 28513 in the 2020 census.\n",
      "Node 5 represents Ellis County, which had a population of 3749 in the 2020 census.\n",
      "Node 6 represents Oklahoma County, which had a population of 796292 in the 2020 census.\n",
      "Node 7 represents Johnston County, which had a population of 10272 in the 2020 census.\n",
      "Node 8 represents Comanche County, which had a population of 121125 in the 2020 census.\n",
      "Node 9 represents Pushmataha County, which had a population of 10812 in the 2020 census.\n",
      "Node 10 represents Cleveland County, which had a population of 295528 in the 2020 census.\n",
      "Node 11 represents Wagoner County, which had a population of 80981 in the 2020 census.\n",
      "Node 12 represents Beckham County, which had a population of 22410 in the 2020 census.\n",
      "Node 13 represents Garvin County, which had a population of 25656 in the 2020 census.\n",
      "Node 14 represents Craig County, which had a population of 14107 in the 2020 census.\n",
      "Node 15 represents Cherokee County, which had a population of 47078 in the 2020 census.\n",
      "Node 16 represents Osage County, which had a population of 45818 in the 2020 census.\n",
      "Node 17 represents Tillman County, which had a population of 6968 in the 2020 census.\n",
      "Node 18 represents Logan County, which had a population of 49555 in the 2020 census.\n",
      "Node 19 represents Pittsburg County, which had a population of 43773 in the 2020 census.\n",
      "Node 20 represents Jefferson County, which had a population of 5337 in the 2020 census.\n",
      "Node 21 represents Pawnee County, which had a population of 15553 in the 2020 census.\n",
      "Node 22 represents Okfuskee County, which had a population of 11310 in the 2020 census.\n",
      "Node 23 represents McClain County, which had a population of 41662 in the 2020 census.\n",
      "Node 24 represents Le Flore County, which had a population of 48129 in the 2020 census.\n",
      "Node 25 represents Beaver County, which had a population of 5049 in the 2020 census.\n",
      "Node 26 represents Dewey County, which had a population of 4484 in the 2020 census.\n",
      "Node 27 represents Choctaw County, which had a population of 14204 in the 2020 census.\n",
      "Node 28 represents Roger Mills County, which had a population of 3442 in the 2020 census.\n",
      "Node 29 represents Bryan County, which had a population of 46067 in the 2020 census.\n",
      "Node 30 represents Latimer County, which had a population of 9444 in the 2020 census.\n",
      "Node 31 represents Texas County, which had a population of 21384 in the 2020 census.\n",
      "Node 32 represents Woodward County, which had a population of 20470 in the 2020 census.\n",
      "Node 33 represents Stephens County, which had a population of 42848 in the 2020 census.\n",
      "Node 34 represents Tulsa County, which had a population of 669279 in the 2020 census.\n",
      "Node 35 represents McIntosh County, which had a population of 18941 in the 2020 census.\n",
      "Node 36 represents Kingfisher County, which had a population of 15184 in the 2020 census.\n",
      "Node 37 represents Grant County, which had a population of 4169 in the 2020 census.\n",
      "Node 38 represents Murray County, which had a population of 13904 in the 2020 census.\n",
      "Node 39 represents Nowata County, which had a population of 9320 in the 2020 census.\n",
      "Node 40 represents Haskell County, which had a population of 11561 in the 2020 census.\n",
      "Node 41 represents Grady County, which had a population of 54795 in the 2020 census.\n",
      "Node 42 represents Payne County, which had a population of 81646 in the 2020 census.\n",
      "Node 43 represents Cimarron County, which had a population of 2296 in the 2020 census.\n",
      "Node 44 represents Garfield County, which had a population of 62846 in the 2020 census.\n",
      "Node 45 represents Adair County, which had a population of 19495 in the 2020 census.\n",
      "Node 46 represents Sequoyah County, which had a population of 39281 in the 2020 census.\n",
      "Node 47 represents Canadian County, which had a population of 154405 in the 2020 census.\n",
      "Node 48 represents Marshall County, which had a population of 15312 in the 2020 census.\n",
      "Node 49 represents Harper County, which had a population of 3272 in the 2020 census.\n",
      "Node 50 represents Alfalfa County, which had a population of 5699 in the 2020 census.\n",
      "Node 51 represents Lincoln County, which had a population of 33458 in the 2020 census.\n",
      "Node 52 represents Hughes County, which had a population of 13367 in the 2020 census.\n",
      "Node 53 represents Muskogee County, which had a population of 66339 in the 2020 census.\n",
      "Node 54 represents Ottawa County, which had a population of 30285 in the 2020 census.\n",
      "Node 55 represents Rogers County, which had a population of 95240 in the 2020 census.\n",
      "Node 56 represents Caddo County, which had a population of 26945 in the 2020 census.\n",
      "Node 57 represents Mayes County, which had a population of 39046 in the 2020 census.\n",
      "Node 58 represents Coal County, which had a population of 5266 in the 2020 census.\n",
      "Node 59 represents Carter County, which had a population of 48003 in the 2020 census.\n",
      "Node 60 represents Greer County, which had a population of 5491 in the 2020 census.\n",
      "Node 61 represents Cotton County, which had a population of 5527 in the 2020 census.\n",
      "Node 62 represents McCurtain County, which had a population of 30814 in the 2020 census.\n",
      "Node 63 represents Atoka County, which had a population of 14143 in the 2020 census.\n",
      "Node 64 represents Okmulgee County, which had a population of 36706 in the 2020 census.\n",
      "Node 65 represents Washington County, which had a population of 52455 in the 2020 census.\n",
      "Node 66 represents Seminole County, which had a population of 23556 in the 2020 census.\n",
      "Node 67 represents Woods County, which had a population of 8624 in the 2020 census.\n",
      "Node 68 represents Harmon County, which had a population of 2488 in the 2020 census.\n",
      "Node 69 represents Kay County, which had a population of 43700 in the 2020 census.\n",
      "Node 70 represents Blaine County, which had a population of 8735 in the 2020 census.\n",
      "Node 71 represents Pontotoc County, which had a population of 38065 in the 2020 census.\n",
      "Node 72 represents Creek County, which had a population of 71754 in the 2020 census.\n",
      "Node 73 represents Pottawatomie County, which had a population of 72454 in the 2020 census.\n",
      "Node 74 represents Kiowa County, which had a population of 8509 in the 2020 census.\n",
      "Node 75 represents Love County, which had a population of 10146 in the 2020 census.\n",
      "Node 76 represents Noble County, which had a population of 10924 in the 2020 census.\n"
     ]
    }
   ],
   "source": [
    "# For each node, print the node #, county name, and its population\n",
    "for node in G.nodes:\n",
    "    county_name = G.nodes[node]['NAME20']\n",
    "    county_population = G.nodes[node]['P0010001']\n",
    "    G.nodes[node]['TOTPOP'] = county_population\n",
    "    print(\"Node\",node,\"represents\",county_name,\"County, which had a population of\",county_population,\"in the 2020 census.\")"
   ]
  },
  {
   "cell_type": "code",
   "execution_count": 3,
   "metadata": {},
   "outputs": [],
   "source": [
    "# we are to solve the following task:\n",
    "# input: a population vector, desired number of districts k\n",
    "# output: a partition of the populations into k districts (not necessarily connected!) \n",
    "#            to minimize the difference between most and least populated districts\n",
    "\n",
    "import gurobipy as gp\n",
    "from gurobipy import GRB"
   ]
  },
  {
   "cell_type": "code",
   "execution_count": 4,
   "metadata": {},
   "outputs": [
    {
     "name": "stdout",
     "output_type": "stream",
     "text": [
      "Set parameter Username\n",
      "Academic license - for non-commercial use only - expires 2023-01-01\n"
     ]
    }
   ],
   "source": [
    "k = 5  # desired number of districts\n",
    "\n",
    "# create model \n",
    "m = gp.Model()\n",
    "\n",
    "# create variables\n",
    "x = m.addVars( G.nodes, k, vtype=GRB.BINARY )  # x[i,j] = 1 when county i is assigned to district j\n",
    "y = m.addVar()                                 # y = population of smallest district\n",
    "z = m.addVar()                                 # z = population of largest district"
   ]
  },
  {
   "cell_type": "code",
   "execution_count": 5,
   "metadata": {},
   "outputs": [],
   "source": [
    "# objective is to minimize absolute population deviation\n",
    "m.setObjective( z - y, GRB.MINIMIZE )\n",
    "\n",
    "# add constraints saying that each county i is assigned to one district\n",
    "m.addConstrs( gp.quicksum( x[i,j] for j in range(k) ) == 1 for i in G.nodes ) \n",
    "\n",
    "# add constraints saying that each district has population at least y\n",
    "m.addConstrs( gp.quicksum( G.nodes[i]['TOTPOP'] * x[i,j] for i in G.nodes ) >= y for j in range(k) )\n",
    "\n",
    "# add constraints saying that each district has population at most z\n",
    "m.addConstrs( gp.quicksum( G.nodes[i]['TOTPOP'] * x[i,j] for i in G.nodes ) <= z for j in range(k) )\n",
    "\n",
    "m.update()"
   ]
  },
  {
   "cell_type": "code",
   "execution_count": 6,
   "metadata": {},
   "outputs": [
    {
     "name": "stdout",
     "output_type": "stream",
     "text": [
      "Gurobi Optimizer version 9.5.0 build v9.5.0rc5 (win64)\n",
      "Thread count: 4 physical cores, 8 logical processors, using up to 8 threads\n",
      "Optimize a model with 87 rows, 387 columns and 1165 nonzeros\n",
      "Model fingerprint: 0x4c85ac40\n",
      "Variable types: 2 continuous, 385 integer (385 binary)\n",
      "Coefficient statistics:\n",
      "  Matrix range     [1e+00, 8e+05]\n",
      "  Objective range  [1e+00, 1e+00]\n",
      "  Bounds range     [1e+00, 1e+00]\n",
      "  RHS range        [1e+00, 1e+00]\n",
      "Found heuristic solution: objective 1731757.0000\n",
      "Presolve time: 0.00s\n",
      "Presolved: 87 rows, 387 columns, 1165 nonzeros\n",
      "Variable types: 0 continuous, 387 integer (385 binary)\n",
      "\n",
      "Root relaxation: objective 0.000000e+00, 119 iterations, 0.00 seconds (0.00 work units)\n",
      "\n",
      "    Nodes    |    Current Node    |     Objective Bounds      |     Work\n",
      " Expl Unexpl |  Obj  Depth IntInf | Incumbent    BestBd   Gap | It/Node Time\n",
      "\n",
      "     0     0    0.00000    0    9 1731757.00    0.00000   100%     -    0s\n",
      "H    0     0                    56060.000000    0.00000   100%     -    0s\n",
      "H    0     0                    50450.000000    0.00000   100%     -    0s\n",
      "H    0     0                    48018.000000 4421.40000  90.8%     -    0s\n",
      "H    0     0                    43914.000000 4421.40000  89.9%     -    0s\n",
      "     0     0 4421.40000    0   11 43914.0000 4421.40000  89.9%     -    0s\n",
      "H    0     0                    20794.000000 4421.40000  78.7%     -    0s\n",
      "H    0     0                    15261.000000 4422.00000  71.0%     -    0s\n",
      "     0     0 4422.00000    0   15 15261.0000 4422.00000  71.0%     -    0s\n",
      "H    0     0                    7062.0000000 4422.00000  37.4%     -    0s\n",
      "     0     0 4422.00000    0   10 7062.00000 4422.00000  37.4%     -    0s\n",
      "H    0     0                    7060.0000000 4422.00000  37.4%     -    0s\n",
      "H    0     0                    6276.0000000 4422.00000  29.5%     -    0s\n",
      "H    0     2                    6261.0000000 4422.00000  29.4%     -    0s\n",
      "     0     2 4422.00000    0   10 6261.00000 4422.00000  29.4%     -    0s\n",
      "H   33    32                    6244.0000000 5526.75000  11.5%   5.0    0s\n",
      "H   65   228                    6235.0000000 5526.75000  11.4%   3.6    0s\n",
      "*  447   501             135    6183.0000000 5526.75000  10.6%   3.0    0s\n",
      "*  547   501              91    5919.0000000 5526.75000  6.63%   2.7    0s\n",
      "*  879   968             113    5891.0000000 5526.75000  6.18%   2.8    0s\n",
      "H 1275   921                    5867.0000000 5526.75000  5.80%   2.8    0s\n",
      "H 1276   875                    5814.0000000 5526.75000  4.94%   2.8    0s\n",
      "H 1276   831                    5737.0000000 5526.75000  3.66%   2.8    0s\n",
      "H 1279   791                    5639.0000000 5527.00000  1.99%   2.8    0s\n",
      "H 1282   753                    5589.0000000 5527.00000  1.11%   2.8    0s\n",
      "H 1283   717                    5569.0000000 5527.00000  0.75%   2.8    0s\n",
      "H 1364   751                    5557.0000000 5527.00000  0.54%   0.9    0s\n",
      "H 4990  3190                    5551.0000000 5527.00000  0.43%   2.4    1s\n",
      "*14509  8345             109    5540.0000000 5527.00000  0.23%   2.6    1s\n",
      "H17982 10356                    5539.0000000 5527.00000  0.22%   2.6    1s\n",
      "H25930 14462                    5532.0000000 5527.00000  0.09%   2.7    2s\n",
      "*31272 18633             104    5531.0000000 5527.00000  0.07%   2.7    3s\n",
      "*31453 18448             107    5529.0000000 5527.00000  0.04%   2.7    3s\n",
      "*31504 18178             109    5528.0000000 5527.00000  0.02%   2.7    3s\n",
      "*31613  3541             109    5527.0000000 5527.00000  0.00%   2.7    3s\n",
      "\n",
      "Cutting planes:\n",
      "  Gomory: 2\n",
      "  Cover: 4\n",
      "\n",
      "Explored 37205 nodes (109970 simplex iterations) in 3.44 seconds (1.43 work units)\n",
      "Thread count was 8 (of 8 available processors)\n",
      "\n",
      "Solution count 10: 5527 5528 5529 ... 5569\n",
      "\n",
      "Optimal solution found (tolerance 1.00e-04)\n",
      "Best objective 5.527000000000e+03, best bound 5.527000000000e+03, gap 0.0000%\n"
     ]
    }
   ],
   "source": [
    "# solve IP model\n",
    "m.optimize()"
   ]
  },
  {
   "cell_type": "code",
   "execution_count": 7,
   "metadata": {},
   "outputs": [
    {
     "name": "stdout",
     "output_type": "stream",
     "text": [
      "The minimum required deviation is 5527.0 persons.\n",
      "District 0 has these nodes = [0, 4, 20, 22, 34, 40, 54, 66] and this population = 790765\n",
      "The corresponding county names are = ['Washita', 'Custer', 'Jefferson', 'Okfuskee', 'Tulsa', 'Haskell', 'Ottawa', 'Seminole']\n",
      "\n",
      "District 1 has these nodes = [6] and this population = 796292\n",
      "The corresponding county names are = ['Oklahoma']\n",
      "\n",
      "District 2 has these nodes = [1, 3, 7, 9, 11, 12, 13, 14, 21, 23, 26, 27, 31, 39, 42, 43, 45, 46, 51, 53, 57, 58, 63, 69, 70, 72, 74, 75, 76] and this population = 790765\n",
      "The corresponding county names are = ['Jackson', 'Delaware', 'Johnston', 'Pushmataha', 'Wagoner', 'Beckham', 'Garvin', 'Craig', 'Pawnee', 'McClain', 'Dewey', 'Choctaw', 'Texas', 'Nowata', 'Payne', 'Cimarron', 'Adair', 'Sequoyah', 'Lincoln', 'Muskogee', 'Mayes', 'Coal', 'Atoka', 'Kay', 'Blaine', 'Creek', 'Kiowa', 'Love', 'Noble']\n",
      "\n",
      "District 3 has these nodes = [2, 5, 10, 18, 25, 30, 35, 36, 47, 49, 50, 52, 55, 56, 61, 67, 73] and this population = 790765\n",
      "The corresponding county names are = ['Major', 'Ellis', 'Cleveland', 'Logan', 'Beaver', 'Latimer', 'McIntosh', 'Kingfisher', 'Canadian', 'Harper', 'Alfalfa', 'Hughes', 'Rogers', 'Caddo', 'Cotton', 'Woods', 'Pottawatomie']\n",
      "\n",
      "District 4 has these nodes = [8, 15, 16, 17, 19, 24, 28, 29, 32, 33, 37, 38, 41, 44, 48, 59, 60, 62, 64, 65, 68, 71] and this population = 790766\n",
      "The corresponding county names are = ['Comanche', 'Cherokee', 'Osage', 'Tillman', 'Pittsburg', 'Le Flore', 'Roger Mills', 'Bryan', 'Woodward', 'Stephens', 'Grant', 'Murray', 'Grady', 'Garfield', 'Marshall', 'Carter', 'Greer', 'McCurtain', 'Okmulgee', 'Washington', 'Harmon', 'Pontotoc']\n",
      "\n"
     ]
    }
   ],
   "source": [
    "# print the absolute population deviation\n",
    "print(\"The minimum required deviation is\",m.objVal,\"persons.\")\n",
    "\n",
    "# retrieve the districts and their populations\n",
    "districts = [ [ i for i in G.nodes if x[i,j].x > 0.5 ] for j in range(k) ]\n",
    "district_county_names = [ [ G.nodes[i]['NAME20'] for i in district ] for district in districts ]\n",
    "district_populations = [ sum( G.nodes[i]['TOTPOP'] for i in district ) for district in districts ]\n",
    "\n",
    "# print district info\n",
    "for j in range(k):\n",
    "    print(\"District\",j,\"has these nodes =\",districts[j],\"and this population =\",district_populations[j] )\n",
    "    print(\"The corresponding county names are =\",district_county_names[j] )\n",
    "    print(\"\")"
   ]
  },
  {
   "cell_type": "code",
   "execution_count": 8,
   "metadata": {},
   "outputs": [
    {
     "name": "stdout",
     "output_type": "stream",
     "text": [
      "Is district = [0, 4, 20, 22, 34, 40, 54, 66] connected? False\n",
      "Is district = [6] connected? True\n",
      "Is district = [1, 3, 7, 9, 11, 12, 13, 14, 21, 23, 26, 27, 31, 39, 42, 43, 45, 46, 51, 53, 57, 58, 63, 69, 70, 72, 74, 75, 76] connected? False\n",
      "Is district = [2, 5, 10, 18, 25, 30, 35, 36, 47, 49, 50, 52, 55, 56, 61, 67, 73] connected? False\n",
      "Is district = [8, 15, 16, 17, 19, 24, 28, 29, 32, 33, 37, 38, 41, 44, 48, 59, 60, 62, 64, 65, 68, 71] connected? False\n"
     ]
    }
   ],
   "source": [
    "import networkx as nx\n",
    "for district in districts:\n",
    "    print(\"Is district =\", district, \"connected?\", nx.is_connected( G.subgraph( district ) ) )"
   ]
  },
  {
   "cell_type": "code",
   "execution_count": null,
   "metadata": {},
   "outputs": [],
   "source": []
  }
 ],
 "metadata": {
  "kernelspec": {
   "display_name": "Python 3",
   "language": "python",
   "name": "python3"
  },
  "language_info": {
   "codemirror_mode": {
    "name": "ipython",
    "version": 3
   },
   "file_extension": ".py",
   "mimetype": "text/x-python",
   "name": "python",
   "nbconvert_exporter": "python",
   "pygments_lexer": "ipython3",
   "version": "3.7.10"
  }
 },
 "nbformat": 4,
 "nbformat_minor": 4
}
