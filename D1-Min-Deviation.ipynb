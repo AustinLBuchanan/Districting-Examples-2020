{
 "cells": [
  {
   "cell_type": "code",
   "execution_count": 1,
   "metadata": {},
   "outputs": [],
   "source": [
    "import json\n",
    "from networkx.readwrite import json_graph\n",
    "\n",
    "def read_graph_from_json(json_file):\n",
    "    with open(json_file) as f:\n",
    "        data = json.load(f)\n",
    "    return json_graph.adjacency_graph(data) "
   ]
  },
  {
   "cell_type": "code",
   "execution_count": 2,
   "metadata": {},
   "outputs": [],
   "source": [
    "# Read Oklahoma county graph from the json file \"OK_county.json\"\n",
    "filepath = 'districting-data\\\\'\n",
    "filename = 'OK_county.json'\n",
    "\n",
    "G = read_graph_from_json( filepath + filename )"
   ]
  },
  {
   "cell_type": "code",
   "execution_count": 3,
   "metadata": {},
   "outputs": [
    {
     "name": "stdout",
     "output_type": "stream",
     "text": [
      "Node 0 represents Washita County, which had a population of 10924 in the 2020 census.\n",
      "Node 1 represents Jackson County, which had a population of 24785 in the 2020 census.\n",
      "Node 2 represents Major County, which had a population of 7782 in the 2020 census.\n",
      "Node 3 represents Delaware County, which had a population of 40397 in the 2020 census.\n",
      "Node 4 represents Custer County, which had a population of 28513 in the 2020 census.\n",
      "Node 5 represents Ellis County, which had a population of 3749 in the 2020 census.\n",
      "Node 6 represents Oklahoma County, which had a population of 796292 in the 2020 census.\n",
      "Node 7 represents Johnston County, which had a population of 10272 in the 2020 census.\n",
      "Node 8 represents Comanche County, which had a population of 121125 in the 2020 census.\n",
      "Node 9 represents Pushmataha County, which had a population of 10812 in the 2020 census.\n",
      "Node 10 represents Cleveland County, which had a population of 295528 in the 2020 census.\n",
      "Node 11 represents Wagoner County, which had a population of 80981 in the 2020 census.\n",
      "Node 12 represents Beckham County, which had a population of 22410 in the 2020 census.\n",
      "Node 13 represents Garvin County, which had a population of 25656 in the 2020 census.\n",
      "Node 14 represents Craig County, which had a population of 14107 in the 2020 census.\n",
      "Node 15 represents Cherokee County, which had a population of 47078 in the 2020 census.\n",
      "Node 16 represents Osage County, which had a population of 45818 in the 2020 census.\n",
      "Node 17 represents Tillman County, which had a population of 6968 in the 2020 census.\n",
      "Node 18 represents Logan County, which had a population of 49555 in the 2020 census.\n",
      "Node 19 represents Pittsburg County, which had a population of 43773 in the 2020 census.\n",
      "Node 20 represents Jefferson County, which had a population of 5337 in the 2020 census.\n",
      "Node 21 represents Pawnee County, which had a population of 15553 in the 2020 census.\n",
      "Node 22 represents Okfuskee County, which had a population of 11310 in the 2020 census.\n",
      "Node 23 represents McClain County, which had a population of 41662 in the 2020 census.\n",
      "Node 24 represents Le Flore County, which had a population of 48129 in the 2020 census.\n",
      "Node 25 represents Beaver County, which had a population of 5049 in the 2020 census.\n",
      "Node 26 represents Dewey County, which had a population of 4484 in the 2020 census.\n",
      "Node 27 represents Choctaw County, which had a population of 14204 in the 2020 census.\n",
      "Node 28 represents Roger Mills County, which had a population of 3442 in the 2020 census.\n",
      "Node 29 represents Bryan County, which had a population of 46067 in the 2020 census.\n",
      "Node 30 represents Latimer County, which had a population of 9444 in the 2020 census.\n",
      "Node 31 represents Texas County, which had a population of 21384 in the 2020 census.\n",
      "Node 32 represents Woodward County, which had a population of 20470 in the 2020 census.\n",
      "Node 33 represents Stephens County, which had a population of 42848 in the 2020 census.\n",
      "Node 34 represents Tulsa County, which had a population of 669279 in the 2020 census.\n",
      "Node 35 represents McIntosh County, which had a population of 18941 in the 2020 census.\n",
      "Node 36 represents Kingfisher County, which had a population of 15184 in the 2020 census.\n",
      "Node 37 represents Grant County, which had a population of 4169 in the 2020 census.\n",
      "Node 38 represents Murray County, which had a population of 13904 in the 2020 census.\n",
      "Node 39 represents Nowata County, which had a population of 9320 in the 2020 census.\n",
      "Node 40 represents Haskell County, which had a population of 11561 in the 2020 census.\n",
      "Node 41 represents Grady County, which had a population of 54795 in the 2020 census.\n",
      "Node 42 represents Payne County, which had a population of 81646 in the 2020 census.\n",
      "Node 43 represents Cimarron County, which had a population of 2296 in the 2020 census.\n",
      "Node 44 represents Garfield County, which had a population of 62846 in the 2020 census.\n",
      "Node 45 represents Adair County, which had a population of 19495 in the 2020 census.\n",
      "Node 46 represents Sequoyah County, which had a population of 39281 in the 2020 census.\n",
      "Node 47 represents Canadian County, which had a population of 154405 in the 2020 census.\n",
      "Node 48 represents Marshall County, which had a population of 15312 in the 2020 census.\n",
      "Node 49 represents Harper County, which had a population of 3272 in the 2020 census.\n",
      "Node 50 represents Alfalfa County, which had a population of 5699 in the 2020 census.\n",
      "Node 51 represents Lincoln County, which had a population of 33458 in the 2020 census.\n",
      "Node 52 represents Hughes County, which had a population of 13367 in the 2020 census.\n",
      "Node 53 represents Muskogee County, which had a population of 66339 in the 2020 census.\n",
      "Node 54 represents Ottawa County, which had a population of 30285 in the 2020 census.\n",
      "Node 55 represents Rogers County, which had a population of 95240 in the 2020 census.\n",
      "Node 56 represents Caddo County, which had a population of 26945 in the 2020 census.\n",
      "Node 57 represents Mayes County, which had a population of 39046 in the 2020 census.\n",
      "Node 58 represents Coal County, which had a population of 5266 in the 2020 census.\n",
      "Node 59 represents Carter County, which had a population of 48003 in the 2020 census.\n",
      "Node 60 represents Greer County, which had a population of 5491 in the 2020 census.\n",
      "Node 61 represents Cotton County, which had a population of 5527 in the 2020 census.\n",
      "Node 62 represents McCurtain County, which had a population of 30814 in the 2020 census.\n",
      "Node 63 represents Atoka County, which had a population of 14143 in the 2020 census.\n",
      "Node 64 represents Okmulgee County, which had a population of 36706 in the 2020 census.\n",
      "Node 65 represents Washington County, which had a population of 52455 in the 2020 census.\n",
      "Node 66 represents Seminole County, which had a population of 23556 in the 2020 census.\n",
      "Node 67 represents Woods County, which had a population of 8624 in the 2020 census.\n",
      "Node 68 represents Harmon County, which had a population of 2488 in the 2020 census.\n",
      "Node 69 represents Kay County, which had a population of 43700 in the 2020 census.\n",
      "Node 70 represents Blaine County, which had a population of 8735 in the 2020 census.\n",
      "Node 71 represents Pontotoc County, which had a population of 38065 in the 2020 census.\n",
      "Node 72 represents Creek County, which had a population of 71754 in the 2020 census.\n",
      "Node 73 represents Pottawatomie County, which had a population of 72454 in the 2020 census.\n",
      "Node 74 represents Kiowa County, which had a population of 8509 in the 2020 census.\n",
      "Node 75 represents Love County, which had a population of 10146 in the 2020 census.\n",
      "Node 76 represents Noble County, which had a population of 10924 in the 2020 census.\n"
     ]
    }
   ],
   "source": [
    "# For each node, print the node #, county name, and its population\n",
    "for node in G.nodes:\n",
    "    county_name = G.nodes[node]['NAME20']\n",
    "    county_population = G.nodes[node]['P0010001']\n",
    "    G.nodes[node]['TOTPOP'] = county_population\n",
    "    print(\"Node\",node,\"represents\",county_name,\"County, which had a population of\",county_population,\"in the 2020 census.\")"
   ]
  },
  {
   "cell_type": "code",
   "execution_count": 4,
   "metadata": {},
   "outputs": [],
   "source": [
    "# we are to solve the following task:\n",
    "# input: a population vector, desired number of districts k\n",
    "# output: a partition of the populations into k districts (not necessarily connected!) \n",
    "#            to minimize the difference between most and least populated districts\n",
    "\n",
    "import gurobipy as gp\n",
    "from gurobipy import GRB"
   ]
  },
  {
   "cell_type": "code",
   "execution_count": 5,
   "metadata": {},
   "outputs": [
    {
     "name": "stdout",
     "output_type": "stream",
     "text": [
      "Set parameter Username\n",
      "Academic license - for non-commercial use only - expires 2024-05-11\n"
     ]
    }
   ],
   "source": [
    "k = 5  # desired number of districts\n",
    "\n",
    "# create model \n",
    "m = gp.Model()\n",
    "\n",
    "# create variables\n",
    "x = m.addVars( G.nodes, k, vtype=GRB.BINARY )  # x[i,j] = 1 when county i is assigned to district j\n",
    "y = m.addVar()                                 # y = population of smallest district\n",
    "z = m.addVar()                                 # z = population of largest district"
   ]
  },
  {
   "cell_type": "code",
   "execution_count": 6,
   "metadata": {},
   "outputs": [],
   "source": [
    "# objective is to minimize absolute population deviation\n",
    "m.setObjective( z - y, GRB.MINIMIZE )\n",
    "\n",
    "# add constraints saying that each county i is assigned to one district\n",
    "m.addConstrs( gp.quicksum( x[i,j] for j in range(k) ) == 1 for i in G.nodes ) \n",
    "\n",
    "# add constraints saying that each district has population at least y\n",
    "m.addConstrs( gp.quicksum( G.nodes[i]['TOTPOP'] * x[i,j] for i in G.nodes ) >= y for j in range(k) )\n",
    "\n",
    "# add constraints saying that each district has population at most z\n",
    "m.addConstrs( gp.quicksum( G.nodes[i]['TOTPOP'] * x[i,j] for i in G.nodes ) <= z for j in range(k) )\n",
    "\n",
    "m.update()"
   ]
  },
  {
   "cell_type": "code",
   "execution_count": 7,
   "metadata": {},
   "outputs": [
    {
     "name": "stdout",
     "output_type": "stream",
     "text": [
      "Gurobi Optimizer version 10.0.1 build v10.0.1rc0 (win64)\n",
      "\n",
      "CPU model: Intel(R) Core(TM) i7-4790 CPU @ 3.60GHz, instruction set [SSE2|AVX|AVX2]\n",
      "Thread count: 4 physical cores, 8 logical processors, using up to 8 threads\n",
      "\n",
      "Optimize a model with 87 rows, 387 columns and 1165 nonzeros\n",
      "Model fingerprint: 0x4c85ac40\n",
      "Variable types: 2 continuous, 385 integer (385 binary)\n",
      "Coefficient statistics:\n",
      "  Matrix range     [1e+00, 8e+05]\n",
      "  Objective range  [1e+00, 1e+00]\n",
      "  Bounds range     [1e+00, 1e+00]\n",
      "  RHS range        [1e+00, 1e+00]\n",
      "Found heuristic solution: objective 1731757.0000\n",
      "Presolve time: 0.01s\n",
      "Presolved: 87 rows, 387 columns, 1165 nonzeros\n",
      "Variable types: 0 continuous, 387 integer (385 binary)\n",
      "\n",
      "Root relaxation: objective 0.000000e+00, 119 iterations, 0.00 seconds (0.00 work units)\n",
      "\n",
      "    Nodes    |    Current Node    |     Objective Bounds      |     Work\n",
      " Expl Unexpl |  Obj  Depth IntInf | Incumbent    BestBd   Gap | It/Node Time\n",
      "\n",
      "     0     0    0.00000    0    9 1731757.00    0.00000   100%     -    0s\n",
      "H    0     0                    56060.000000    0.00000   100%     -    0s\n",
      "H    0     0                    50450.000000    0.00000   100%     -    0s\n",
      "H    0     0                    48018.000000    0.00000   100%     -    0s\n",
      "H    0     0                    43914.000000 4421.40000  89.9%     -    0s\n",
      "     0     0 4421.40000    0   11 43914.0000 4421.40000  89.9%     -    0s\n",
      "H    0     0                    20794.000000 4421.40000  78.7%     -    0s\n",
      "H    0     0                    15261.000000 4421.40000  71.0%     -    0s\n",
      "H    0     0                    7062.0000000 4422.00000  37.4%     -    0s\n",
      "     0     0 4422.00000    0   12 7062.00000 4422.00000  37.4%     -    0s\n",
      "     0     0 4422.00000    0   11 7062.00000 4422.00000  37.4%     -    0s\n",
      "H    0     0                    6661.0000000 4422.00000  33.6%     -    0s\n",
      "H    0     0                    5754.0000000 4422.00000  23.1%     -    0s\n",
      "H    0     2                    5740.0000000 4422.00000  23.0%     -    0s\n",
      "     0     2 4422.00000    0   11 5740.00000 4422.00000  23.0%     -    0s\n",
      "H   86   301                    5655.0000000 5527.00000  2.26%   3.8    0s\n",
      "H  360   526                    5651.0000000 5527.00000  2.19%   2.6    0s\n",
      "H  395   526                    5621.0000000 5527.00000  1.67%   2.6    0s\n",
      "H  658   526                    5591.0000000 5527.00000  1.14%   2.5    0s\n",
      "*  907   738             106    5580.0000000 5527.00000  0.95%   2.5    0s\n",
      "* 1422  1050             104    5573.0000000 5527.00000  0.83%   2.3    0s\n",
      "* 1770  1050              92    5568.0000000 5527.00000  0.74%   2.3    0s\n",
      "H 2825  1419                    5560.0000000 5527.00000  0.59%   2.2    0s\n",
      "H 4037  1730                    5555.0000000 5527.00000  0.50%   2.2    0s\n",
      "H 5819  2079                    5549.0000000 5527.00000  0.40%   0.2    0s\n",
      "H 5826  1974                    5540.0000000 5527.00000  0.23%   0.2    0s\n",
      "H 5856  1905                    5533.0000000 5527.00000  0.11%   0.3    1s\n",
      "H17950  9297                    5529.0000000 5527.00000  0.04%   1.9    1s\n",
      "*60063 18443             143    5528.0000000 5527.00000  0.02%   2.3    3s\n",
      " 74313 26994 5527.00000  125    6 5528.00000 5527.00000  0.02%   2.4    5s\n",
      "*81889 15361             150    5527.0000000 5527.00000  0.00%   2.5    5s\n",
      "\n",
      "Cutting planes:\n",
      "  Cover: 7\n",
      "  Flow cover: 2\n",
      "  RLT: 2\n",
      "\n",
      "Explored 82321 nodes (217971 simplex iterations) in 5.27 seconds (2.66 work units)\n",
      "Thread count was 8 (of 8 available processors)\n",
      "\n",
      "Solution count 10: 5527 5528 5529 ... 5573\n",
      "\n",
      "Optimal solution found (tolerance 1.00e-04)\n",
      "Best objective 5.527000000000e+03, best bound 5.527000000000e+03, gap 0.0000%\n"
     ]
    }
   ],
   "source": [
    "# solve IP model\n",
    "m.optimize()"
   ]
  },
  {
   "cell_type": "code",
   "execution_count": 8,
   "metadata": {},
   "outputs": [
    {
     "name": "stdout",
     "output_type": "stream",
     "text": [
      "The minimum required deviation is 5527.0 persons.\n",
      "District 0 has these nodes = [0, 2, 3, 4, 5, 11, 15, 19, 23, 36, 40, 44, 46, 47, 50, 54, 59, 68, 69, 73] and this population = 790765\n",
      "The corresponding county names are = ['Washita', 'Major', 'Delaware', 'Custer', 'Ellis', 'Wagoner', 'Cherokee', 'Pittsburg', 'McClain', 'Kingfisher', 'Haskell', 'Garfield', 'Sequoyah', 'Canadian', 'Alfalfa', 'Ottawa', 'Carter', 'Harmon', 'Kay', 'Pottawatomie']\n",
      "\n",
      "District 1 has these nodes = [6] and this population = 796292\n",
      "The corresponding county names are = ['Oklahoma']\n",
      "\n",
      "District 2 has these nodes = [8, 12, 14, 16, 21, 22, 27, 29, 30, 35, 38, 39, 41, 42, 49, 53, 58, 60, 62, 63, 64, 65, 66, 67, 70, 71, 74, 75] and this population = 790765\n",
      "The corresponding county names are = ['Comanche', 'Beckham', 'Craig', 'Osage', 'Pawnee', 'Okfuskee', 'Choctaw', 'Bryan', 'Latimer', 'McIntosh', 'Murray', 'Nowata', 'Grady', 'Payne', 'Harper', 'Muskogee', 'Coal', 'Greer', 'McCurtain', 'Atoka', 'Okmulgee', 'Washington', 'Seminole', 'Woods', 'Blaine', 'Pontotoc', 'Kiowa', 'Love']\n",
      "\n",
      "District 3 has these nodes = [7, 9, 10, 13, 17, 18, 20, 24, 25, 28, 31, 33, 45, 51, 52, 55, 56, 61, 72] and this population = 790766\n",
      "The corresponding county names are = ['Johnston', 'Pushmataha', 'Cleveland', 'Garvin', 'Tillman', 'Logan', 'Jefferson', 'Le Flore', 'Beaver', 'Roger Mills', 'Texas', 'Stephens', 'Adair', 'Lincoln', 'Hughes', 'Rogers', 'Caddo', 'Cotton', 'Creek']\n",
      "\n",
      "District 4 has these nodes = [1, 26, 32, 34, 37, 43, 48, 57, 76] and this population = 790765\n",
      "The corresponding county names are = ['Jackson', 'Dewey', 'Woodward', 'Tulsa', 'Grant', 'Cimarron', 'Marshall', 'Mayes', 'Noble']\n",
      "\n"
     ]
    }
   ],
   "source": [
    "# print the absolute population deviation\n",
    "print(\"The minimum required deviation is\",m.objVal,\"persons.\")\n",
    "\n",
    "# retrieve the districts and their populations\n",
    "districts = [ [ i for i in G.nodes if x[i,j].x > 0.5 ] for j in range(k) ]\n",
    "district_county_names = [ [ G.nodes[i]['NAME20'] for i in district ] for district in districts ]\n",
    "district_populations = [ sum( G.nodes[i]['TOTPOP'] for i in district ) for district in districts ]\n",
    "\n",
    "# print district info\n",
    "for j in range(k):\n",
    "    print(\"District\",j,\"has these nodes =\",districts[j],\"and this population =\",district_populations[j] )\n",
    "    print(\"The corresponding county names are =\",district_county_names[j] )\n",
    "    print(\"\")"
   ]
  },
  {
   "cell_type": "code",
   "execution_count": 9,
   "metadata": {},
   "outputs": [
    {
     "name": "stdout",
     "output_type": "stream",
     "text": [
      "Is district = [0, 2, 3, 4, 5, 11, 15, 19, 23, 36, 40, 44, 46, 47, 50, 54, 59, 68, 69, 73] connected? False\n",
      "Is district = [6] connected? True\n",
      "Is district = [8, 12, 14, 16, 21, 22, 27, 29, 30, 35, 38, 39, 41, 42, 49, 53, 58, 60, 62, 63, 64, 65, 66, 67, 70, 71, 74, 75] connected? False\n",
      "Is district = [7, 9, 10, 13, 17, 18, 20, 24, 25, 28, 31, 33, 45, 51, 52, 55, 56, 61, 72] connected? False\n",
      "Is district = [1, 26, 32, 34, 37, 43, 48, 57, 76] connected? False\n"
     ]
    }
   ],
   "source": [
    "import networkx as nx\n",
    "for district in districts:\n",
    "    print(\"Is district =\", district, \"connected?\", nx.is_connected( G.subgraph( district ) ) )"
   ]
  },
  {
   "cell_type": "code",
   "execution_count": null,
   "metadata": {},
   "outputs": [],
   "source": []
  }
 ],
 "metadata": {
  "kernelspec": {
   "display_name": "Python 3",
   "language": "python",
   "name": "python3"
  },
  "language_info": {
   "codemirror_mode": {
    "name": "ipython",
    "version": 3
   },
   "file_extension": ".py",
   "mimetype": "text/x-python",
   "name": "python",
   "nbconvert_exporter": "python",
   "pygments_lexer": "ipython3",
   "version": "3.7.10"
  }
 },
 "nbformat": 4,
 "nbformat_minor": 4
}
