{
 "cells": [
  {
   "cell_type": "code",
   "execution_count": 1,
   "metadata": {},
   "outputs": [],
   "source": [
    "import json\n",
    "from networkx.readwrite import json_graph\n",
    "\n",
    "def read_graph_from_json(json_file):\n",
    "    with open(json_file) as f:\n",
    "        data = json.load(f)\n",
    "    return json_graph.adjacency_graph(data) "
   ]
  },
  {
   "cell_type": "code",
   "execution_count": 2,
   "metadata": {},
   "outputs": [],
   "source": [
    "# Read Oklahoma county graph from the json file \"OK_county.json\"\n",
    "filepath = 'districting-data\\\\'\n",
    "filename = 'OK_county.json'\n",
    "\n",
    "G = read_graph_from_json( filepath + filename )"
   ]
  },
  {
   "cell_type": "code",
   "execution_count": 3,
   "metadata": {},
   "outputs": [
    {
     "name": "stdout",
     "output_type": "stream",
     "text": [
      "Node 0 represents Washita County, which had a population of 10924 in the 2020 census.\n",
      "Node 1 represents Jackson County, which had a population of 24785 in the 2020 census.\n",
      "Node 2 represents Major County, which had a population of 7782 in the 2020 census.\n",
      "Node 3 represents Delaware County, which had a population of 40397 in the 2020 census.\n",
      "Node 4 represents Custer County, which had a population of 28513 in the 2020 census.\n",
      "Node 5 represents Ellis County, which had a population of 3749 in the 2020 census.\n",
      "Node 6 represents Oklahoma County, which had a population of 796292 in the 2020 census.\n",
      "Node 7 represents Johnston County, which had a population of 10272 in the 2020 census.\n",
      "Node 8 represents Comanche County, which had a population of 121125 in the 2020 census.\n",
      "Node 9 represents Pushmataha County, which had a population of 10812 in the 2020 census.\n",
      "Node 10 represents Cleveland County, which had a population of 295528 in the 2020 census.\n",
      "Node 11 represents Wagoner County, which had a population of 80981 in the 2020 census.\n",
      "Node 12 represents Beckham County, which had a population of 22410 in the 2020 census.\n",
      "Node 13 represents Garvin County, which had a population of 25656 in the 2020 census.\n",
      "Node 14 represents Craig County, which had a population of 14107 in the 2020 census.\n",
      "Node 15 represents Cherokee County, which had a population of 47078 in the 2020 census.\n",
      "Node 16 represents Osage County, which had a population of 45818 in the 2020 census.\n",
      "Node 17 represents Tillman County, which had a population of 6968 in the 2020 census.\n",
      "Node 18 represents Logan County, which had a population of 49555 in the 2020 census.\n",
      "Node 19 represents Pittsburg County, which had a population of 43773 in the 2020 census.\n",
      "Node 20 represents Jefferson County, which had a population of 5337 in the 2020 census.\n",
      "Node 21 represents Pawnee County, which had a population of 15553 in the 2020 census.\n",
      "Node 22 represents Okfuskee County, which had a population of 11310 in the 2020 census.\n",
      "Node 23 represents McClain County, which had a population of 41662 in the 2020 census.\n",
      "Node 24 represents Le Flore County, which had a population of 48129 in the 2020 census.\n",
      "Node 25 represents Beaver County, which had a population of 5049 in the 2020 census.\n",
      "Node 26 represents Dewey County, which had a population of 4484 in the 2020 census.\n",
      "Node 27 represents Choctaw County, which had a population of 14204 in the 2020 census.\n",
      "Node 28 represents Roger Mills County, which had a population of 3442 in the 2020 census.\n",
      "Node 29 represents Bryan County, which had a population of 46067 in the 2020 census.\n",
      "Node 30 represents Latimer County, which had a population of 9444 in the 2020 census.\n",
      "Node 31 represents Texas County, which had a population of 21384 in the 2020 census.\n",
      "Node 32 represents Woodward County, which had a population of 20470 in the 2020 census.\n",
      "Node 33 represents Stephens County, which had a population of 42848 in the 2020 census.\n",
      "Node 34 represents Tulsa County, which had a population of 669279 in the 2020 census.\n",
      "Node 35 represents McIntosh County, which had a population of 18941 in the 2020 census.\n",
      "Node 36 represents Kingfisher County, which had a population of 15184 in the 2020 census.\n",
      "Node 37 represents Grant County, which had a population of 4169 in the 2020 census.\n",
      "Node 38 represents Murray County, which had a population of 13904 in the 2020 census.\n",
      "Node 39 represents Nowata County, which had a population of 9320 in the 2020 census.\n",
      "Node 40 represents Haskell County, which had a population of 11561 in the 2020 census.\n",
      "Node 41 represents Grady County, which had a population of 54795 in the 2020 census.\n",
      "Node 42 represents Payne County, which had a population of 81646 in the 2020 census.\n",
      "Node 43 represents Cimarron County, which had a population of 2296 in the 2020 census.\n",
      "Node 44 represents Garfield County, which had a population of 62846 in the 2020 census.\n",
      "Node 45 represents Adair County, which had a population of 19495 in the 2020 census.\n",
      "Node 46 represents Sequoyah County, which had a population of 39281 in the 2020 census.\n",
      "Node 47 represents Canadian County, which had a population of 154405 in the 2020 census.\n",
      "Node 48 represents Marshall County, which had a population of 15312 in the 2020 census.\n",
      "Node 49 represents Harper County, which had a population of 3272 in the 2020 census.\n",
      "Node 50 represents Alfalfa County, which had a population of 5699 in the 2020 census.\n",
      "Node 51 represents Lincoln County, which had a population of 33458 in the 2020 census.\n",
      "Node 52 represents Hughes County, which had a population of 13367 in the 2020 census.\n",
      "Node 53 represents Muskogee County, which had a population of 66339 in the 2020 census.\n",
      "Node 54 represents Ottawa County, which had a population of 30285 in the 2020 census.\n",
      "Node 55 represents Rogers County, which had a population of 95240 in the 2020 census.\n",
      "Node 56 represents Caddo County, which had a population of 26945 in the 2020 census.\n",
      "Node 57 represents Mayes County, which had a population of 39046 in the 2020 census.\n",
      "Node 58 represents Coal County, which had a population of 5266 in the 2020 census.\n",
      "Node 59 represents Carter County, which had a population of 48003 in the 2020 census.\n",
      "Node 60 represents Greer County, which had a population of 5491 in the 2020 census.\n",
      "Node 61 represents Cotton County, which had a population of 5527 in the 2020 census.\n",
      "Node 62 represents McCurtain County, which had a population of 30814 in the 2020 census.\n",
      "Node 63 represents Atoka County, which had a population of 14143 in the 2020 census.\n",
      "Node 64 represents Okmulgee County, which had a population of 36706 in the 2020 census.\n",
      "Node 65 represents Washington County, which had a population of 52455 in the 2020 census.\n",
      "Node 66 represents Seminole County, which had a population of 23556 in the 2020 census.\n",
      "Node 67 represents Woods County, which had a population of 8624 in the 2020 census.\n",
      "Node 68 represents Harmon County, which had a population of 2488 in the 2020 census.\n",
      "Node 69 represents Kay County, which had a population of 43700 in the 2020 census.\n",
      "Node 70 represents Blaine County, which had a population of 8735 in the 2020 census.\n",
      "Node 71 represents Pontotoc County, which had a population of 38065 in the 2020 census.\n",
      "Node 72 represents Creek County, which had a population of 71754 in the 2020 census.\n",
      "Node 73 represents Pottawatomie County, which had a population of 72454 in the 2020 census.\n",
      "Node 74 represents Kiowa County, which had a population of 8509 in the 2020 census.\n",
      "Node 75 represents Love County, which had a population of 10146 in the 2020 census.\n",
      "Node 76 represents Noble County, which had a population of 10924 in the 2020 census.\n"
     ]
    }
   ],
   "source": [
    "# For each node, print the node #, county name, and its population\n",
    "for node in G.nodes:\n",
    "    county_name = G.nodes[node]['NAME20']\n",
    "    county_population = G.nodes[node]['P0010001']\n",
    "    G.nodes[node]['TOTPOP'] = county_population\n",
    "    print(\"Node\",node,\"represents\",county_name,\"County, which had a population of\",county_population,\"in the 2020 census.\")"
   ]
  },
  {
   "cell_type": "code",
   "execution_count": 4,
   "metadata": {},
   "outputs": [
    {
     "name": "stdout",
     "output_type": "stream",
     "text": [
      "Using L = 783952 and U = 799789 and k = 5\n"
     ]
    }
   ],
   "source": [
    "# Let's impose a 2% population deviation (+/-1%)\n",
    "# (Usually, we use 1% deviation, but this instance is infeasible at 1%.)\n",
    "deviation = 0.02\n",
    "\n",
    "k = 5  # desired number of districts\n",
    "total_population = sum( G.nodes[i]['TOTPOP'] for i in G.nodes )\n",
    "ideal_population = total_population / k\n",
    "\n",
    "import math\n",
    "L = math.ceil( ( 1 - deviation / 2 ) * ideal_population )\n",
    "U = math.floor( ( 1 + deviation / 2 ) * ideal_population )\n",
    "print(\"Using L =\",L,\"and U =\",U,\"and k =\",k)"
   ]
  },
  {
   "cell_type": "code",
   "execution_count": 5,
   "metadata": {},
   "outputs": [
    {
     "name": "stdout",
     "output_type": "stream",
     "text": [
      "Set parameter Username\n",
      "Academic license - for non-commercial use only - expires 2024-05-11\n"
     ]
    }
   ],
   "source": [
    "import gurobipy as gp\n",
    "from gurobipy import GRB\n",
    "\n",
    "# create model \n",
    "m = gp.Model()\n",
    "\n",
    "# create variables\n",
    "x = m.addVars( G.nodes, k, vtype=GRB.BINARY ) # x[i,j] = 1 if county i is assigned to district j\n",
    "y = m.addVars( G.edges, vtype=GRB.BINARY )    # y[u,v] = 1 when edge {u,v} is cut"
   ]
  },
  {
   "cell_type": "code",
   "execution_count": 6,
   "metadata": {},
   "outputs": [],
   "source": [
    "# objective is to minimize cut edges\n",
    "m.setObjective( gp.quicksum( y[u,v] for u,v in G.edges ), GRB.MINIMIZE )\n",
    "\n",
    "## Equivalently, we could write:\n",
    "#m.setObjective( gp.quicksum( y ), GRB.MINIMIZE )"
   ]
  },
  {
   "cell_type": "code",
   "execution_count": 7,
   "metadata": {},
   "outputs": [],
   "source": [
    "# add constraints saying that each county i is assigned to one district\n",
    "m.addConstrs( gp.quicksum( x[i,j] for j in range(k) ) == 1 for i in G.nodes )\n",
    "\n",
    "# add constraints saying that each district has a population at least L and at most U.\n",
    "m.addConstrs( gp.quicksum( G.nodes[i]['TOTPOP'] * x[i,j] for i in G.nodes ) >= L for j in range(k) )\n",
    "m.addConstrs( gp.quicksum( G.nodes[i]['TOTPOP'] * x[i,j] for i in G.nodes ) <= U for j in range(k) )\n",
    "\n",
    "# add constraints saying that edge {u,v} is cut if u is assigned to district j but v is not.\n",
    "m.addConstrs( x[u,j] - x[v,j] <= y[u,v] for u,v in G.edges for j in range(k) )\n",
    "\n",
    "m.update()"
   ]
  },
  {
   "cell_type": "code",
   "execution_count": 8,
   "metadata": {},
   "outputs": [
    {
     "name": "stdout",
     "output_type": "stream",
     "text": [
      "Gurobi Optimizer version 10.0.1 build v10.0.1rc0 (win64)\n",
      "\n",
      "CPU model: Intel(R) Core(TM) i7-4790 CPU @ 3.60GHz, instruction set [SSE2|AVX|AVX2]\n",
      "Thread count: 4 physical cores, 8 logical processors, using up to 8 threads\n",
      "\n",
      "Optimize a model with 1062 rows, 580 columns and 4080 nonzeros\n",
      "Model fingerprint: 0xef531b25\n",
      "Variable types: 0 continuous, 580 integer (580 binary)\n",
      "Coefficient statistics:\n",
      "  Matrix range     [1e+00, 8e+05]\n",
      "  Objective range  [1e+00, 1e+00]\n",
      "  Bounds range     [1e+00, 1e+00]\n",
      "  RHS range        [1e+00, 8e+05]\n",
      "Presolve time: 0.01s\n",
      "Presolved: 1062 rows, 580 columns, 4080 nonzeros\n",
      "Variable types: 0 continuous, 580 integer (580 binary)\n",
      "Found heuristic solution: objective 117.0000000\n",
      "\n",
      "Root relaxation: objective 0.000000e+00, 634 iterations, 0.03 seconds (0.03 work units)\n",
      "\n",
      "    Nodes    |    Current Node    |     Objective Bounds      |     Work\n",
      " Expl Unexpl |  Obj  Depth IntInf | Incumbent    BestBd   Gap | It/Node Time\n",
      "\n",
      "     0     0    0.00000    0  385  117.00000    0.00000   100%     -    0s\n",
      "H    0     0                     110.0000000    0.00000   100%     -    0s\n",
      "H    0     0                     109.0000000    0.00000   100%     -    0s\n",
      "     0     0    5.72285    0  389  109.00000    5.72285  94.7%     -    0s\n",
      "H    0     0                     104.0000000    5.72285  94.5%     -    0s\n",
      "     0     0    9.09593    0  311  104.00000    9.09593  91.3%     -    0s\n",
      "     0     0    9.10647    0  311  104.00000    9.10647  91.2%     -    0s\n",
      "     0     0    9.27713    0  315  104.00000    9.27713  91.1%     -    0s\n",
      "H    0     0                     101.0000000    9.27713  90.8%     -    0s\n",
      "     0     0    9.29285    0  312  101.00000    9.29285  90.8%     -    0s\n",
      "     0     0    9.29360    0  312  101.00000    9.29360  90.8%     -    0s\n",
      "     0     0    9.39695    0  312  101.00000    9.39695  90.7%     -    0s\n",
      "     0     0    9.39733    0  312  101.00000    9.39733  90.7%     -    0s\n",
      "     0     0    9.42485    0  313  101.00000    9.42485  90.7%     -    0s\n",
      "H    0     0                      80.0000000    9.42485  88.2%     -    0s\n",
      "H    0     0                      71.0000000    9.42485  86.7%     -    0s\n",
      "     0     0    9.42757    0  313   71.00000    9.42757  86.7%     -    0s\n",
      "     0     0    9.42757    0  313   71.00000    9.42757  86.7%     -    0s\n",
      "     0     0    9.42757    0  313   71.00000    9.42757  86.7%     -    0s\n",
      "     0     0    9.42757    0  300   71.00000    9.42757  86.7%     -    0s\n",
      "     0     0    9.64446    0  314   71.00000    9.64446  86.4%     -    0s\n",
      "     0     0    9.65803    0  314   71.00000    9.65803  86.4%     -    0s\n",
      "     0     0    9.65803    0  314   71.00000    9.65803  86.4%     -    0s\n",
      "     0     0    9.66323    0  315   71.00000    9.66323  86.4%     -    0s\n",
      "     0     0    9.66350    0  311   71.00000    9.66350  86.4%     -    0s\n",
      "     0     0    9.94724    0  316   71.00000    9.94724  86.0%     -    0s\n",
      "     0     0    9.94724    0  316   71.00000    9.94724  86.0%     -    0s\n",
      "H    0     0                      69.0000000    9.94724  85.6%     -    1s\n",
      "     0     2    9.94724    0  316   69.00000    9.94724  85.6%     -    1s\n",
      "H   27    32                      66.0000000   15.72842  76.2%   321    1s\n",
      "H  132   135                      62.0000000   15.72842  74.6%   202    1s\n",
      "H  176   171                      61.0000000   15.72842  74.2%   184    1s\n",
      "H  229   223                      60.0000000   15.72842  73.8%   160    1s\n",
      "H  267   272                      55.0000000   15.72842  71.4%   145    1s\n",
      "H  286   269                      53.0000000   15.72842  70.3%   139    1s\n",
      "H  332   295                      51.0000000   15.72842  69.2%   130    1s\n",
      "H  333   271                      46.0000000   15.72842  65.8%   130    1s\n",
      "H  441   337                      44.0000000   15.72842  64.3%   114    2s\n",
      "H  678   396                      41.0000000   16.25764  60.3%   101    2s\n",
      "H  751   406                      40.0000000   19.09679  52.3%   101    2s\n",
      "H  852   406                      39.0000000   20.18788  48.2%   100    3s\n",
      "H  949   458                      38.0000000   20.40708  46.3%  98.5    3s\n",
      "  1090   553   21.11557   16  284   38.00000   21.11557  44.4%   108    5s\n",
      "  2614  1062   25.07717   19  293   38.00000   21.11557  44.4%   127   10s\n",
      "  5532  2439   33.61777   22  353   38.00000   24.00457  36.8%   129   15s\n",
      "  9767  4032   31.77126   25  164   38.00000   25.93503  31.7%   124   20s\n",
      " 14546  5421   31.60931   24  200   38.00000   27.35978  28.0%   117   26s\n",
      "H14547  5090                      37.0000000   27.35978  26.1%   117   26s\n",
      " 17909  5930   33.36856   25  308   37.00000   28.15195  23.9%   114   30s\n",
      " 24612  7191   33.98431   41   81   37.00000   29.22358  21.0%   107   35s\n",
      " 29102  7876     cutoff   27        37.00000   29.79081  19.5%   103   50s\n",
      " 33929  7464   34.76605   28  301   37.00000   30.67046  17.1%   105   55s\n",
      " 38132  6620   34.98068   28  193   37.00000   31.59358  14.6%   108   60s\n",
      " 41905  5241     cutoff   25        37.00000   32.61255  11.9%   110   65s\n",
      " 46015  2731     cutoff   31        37.00000   33.89361  8.40%   110   70s\n",
      "\n",
      "Cutting planes:\n",
      "  Gomory: 15\n",
      "  Cover: 7\n",
      "  Flow cover: 8\n",
      "  Zero half: 7\n",
      "  RLT: 107\n",
      "\n",
      "Explored 49986 nodes (5332105 simplex iterations) in 73.50 seconds (78.78 work units)\n",
      "Thread count was 8 (of 8 available processors)\n",
      "\n",
      "Solution count 10: 37 38 39 ... 55\n",
      "\n",
      "Optimal solution found (tolerance 1.00e-04)\n",
      "Best objective 3.700000000000e+01, best bound 3.700000000000e+01, gap 0.0000%\n"
     ]
    }
   ],
   "source": [
    "# solve IP model\n",
    "m.optimize()"
   ]
  },
  {
   "cell_type": "code",
   "execution_count": 9,
   "metadata": {},
   "outputs": [
    {
     "name": "stdout",
     "output_type": "stream",
     "text": [
      "The number of cut edges is 37.0\n",
      "District 0 has these nodes = [0, 1, 2, 4, 5, 8, 12, 16, 17, 18, 21, 25, 26, 28, 31, 32, 36, 37, 42, 43, 44, 49, 50, 51, 56, 60, 67, 68, 69, 70, 72, 74, 76] and this population = 787751\n",
      "The corresponding county names are = ['Washita', 'Jackson', 'Major', 'Custer', 'Ellis', 'Comanche', 'Beckham', 'Osage', 'Tillman', 'Logan', 'Pawnee', 'Beaver', 'Dewey', 'Roger Mills', 'Texas', 'Woodward', 'Kingfisher', 'Grant', 'Payne', 'Cimarron', 'Garfield', 'Harper', 'Alfalfa', 'Lincoln', 'Caddo', 'Greer', 'Woods', 'Harmon', 'Kay', 'Blaine', 'Creek', 'Kiowa', 'Noble']\n",
      "\n",
      "District 1 has these nodes = [6] and this population = 796292\n",
      "The corresponding county names are = ['Oklahoma']\n",
      "\n",
      "District 2 has these nodes = [7, 9, 13, 19, 20, 22, 23, 24, 27, 29, 30, 33, 35, 38, 40, 41, 46, 48, 52, 53, 58, 59, 61, 62, 63, 66, 71, 73, 75] and this population = 790988\n",
      "The corresponding county names are = ['Johnston', 'Pushmataha', 'Garvin', 'Pittsburg', 'Jefferson', 'Okfuskee', 'McClain', 'Le Flore', 'Choctaw', 'Bryan', 'Latimer', 'Stephens', 'McIntosh', 'Murray', 'Haskell', 'Grady', 'Sequoyah', 'Marshall', 'Hughes', 'Muskogee', 'Coal', 'Carter', 'Cotton', 'McCurtain', 'Atoka', 'Seminole', 'Pontotoc', 'Pottawatomie', 'Love']\n",
      "\n",
      "District 3 has these nodes = [3, 10, 14, 15, 39, 45, 47, 54, 55, 57, 65] and this population = 797356\n",
      "The corresponding county names are = ['Delaware', 'Cleveland', 'Craig', 'Cherokee', 'Nowata', 'Adair', 'Canadian', 'Ottawa', 'Rogers', 'Mayes', 'Washington']\n",
      "\n",
      "District 4 has these nodes = [11, 34, 64] and this population = 786966\n",
      "The corresponding county names are = ['Wagoner', 'Tulsa', 'Okmulgee']\n",
      "\n"
     ]
    }
   ],
   "source": [
    "print(\"The number of cut edges is\",m.objval)\n",
    "\n",
    "# retrieve the districts and their populations\n",
    "districts = [ [ i for i in G.nodes if x[i,j].x > 0.5 ] for j in range(k) ]\n",
    "district_county_names = [ [ G.nodes[i]['NAME20'] for i in district ] for district in districts ]\n",
    "district_populations = [ sum( G.nodes[i]['TOTPOP'] for i in district ) for district in districts ]\n",
    "\n",
    "# print district info\n",
    "for j in range(k):\n",
    "    print(\"District\",j,\"has these nodes =\",districts[j],\"and this population =\",district_populations[j] )\n",
    "    print(\"The corresponding county names are =\",district_county_names[j] )\n",
    "    print(\"\")"
   ]
  },
  {
   "cell_type": "code",
   "execution_count": 10,
   "metadata": {},
   "outputs": [
    {
     "name": "stdout",
     "output_type": "stream",
     "text": [
      "Is district = [0, 1, 2, 4, 5, 8, 12, 16, 17, 18, 21, 25, 26, 28, 31, 32, 36, 37, 42, 43, 44, 49, 50, 51, 56, 60, 67, 68, 69, 70, 72, 74, 76] connected? True\n",
      "Is district = [6] connected? True\n",
      "Is district = [7, 9, 13, 19, 20, 22, 23, 24, 27, 29, 30, 33, 35, 38, 40, 41, 46, 48, 52, 53, 58, 59, 61, 62, 63, 66, 71, 73, 75] connected? True\n",
      "Is district = [3, 10, 14, 15, 39, 45, 47, 54, 55, 57, 65] connected? False\n",
      "Is district = [11, 34, 64] connected? True\n"
     ]
    }
   ],
   "source": [
    "import networkx as nx\n",
    "for district in districts:\n",
    "    print(\"Is district =\", district, \"connected?\", nx.is_connected( G.subgraph( district ) ) )"
   ]
  },
  {
   "cell_type": "code",
   "execution_count": 11,
   "metadata": {},
   "outputs": [],
   "source": [
    "# Let's draw it on a map\n",
    "import geopandas as gpd"
   ]
  },
  {
   "cell_type": "code",
   "execution_count": 12,
   "metadata": {},
   "outputs": [],
   "source": [
    "# Read Oklahoma county shapefile from \"OK_county.shp\"\n",
    "filepath = 'districting-data\\\\'\n",
    "filename = 'OK_county.shp'\n",
    "\n",
    "# Read geopandas dataframe from file\n",
    "df = gpd.read_file( filepath + filename )"
   ]
  },
  {
   "cell_type": "code",
   "execution_count": 13,
   "metadata": {},
   "outputs": [
    {
     "data": {
      "image/png": "[encoded data removed]",
      "text/plain": [
       "<Figure size 432x288 with 1 Axes>"
      ]
     },
     "metadata": {
      "needs_background": "light"
     },
     "output_type": "display_data"
    }
   ],
   "source": [
    "# Which district is each county assigned to?\n",
    "assignment = [ -1 for i in G.nodes ]\n",
    "labeling = { i : j for i in G.nodes for j in range(k) if x[i,j].x > 0.5 }\n",
    "\n",
    "# Now add the assignments to a column of the dataframe and map it\n",
    "node_with_this_geoid = { G.nodes[i]['GEOID20'] : i for i in G.nodes }\n",
    "\n",
    "# pick a position u in the dataframe\n",
    "for u in range(G.number_of_nodes()):\n",
    "    \n",
    "    geoid = df['GEOID20'][u]\n",
    "    \n",
    "    # what node in G has this geoid?\n",
    "    i = node_with_this_geoid[geoid]\n",
    "    \n",
    "    # position u in the dataframe should be given\n",
    "    # the same district # that county i has in 'labeling'\n",
    "    assignment[u] = labeling[i]\n",
    "    \n",
    "# now add the assignments to a column of our dataframe and then map it\n",
    "df['assignment'] = assignment\n",
    "\n",
    "my_fig = df.plot(column='assignment').get_figure()"
   ]
  },
  {
   "cell_type": "code",
   "execution_count": null,
   "metadata": {},
   "outputs": [],
   "source": []
  }
 ],
 "metadata": {
  "kernelspec": {
   "display_name": "Python 3",
   "language": "python",
   "name": "python3"
  },
  "language_info": {
   "codemirror_mode": {
    "name": "ipython",
    "version": 3
   },
   "file_extension": ".py",
   "mimetype": "text/x-python",
   "name": "python",
   "nbconvert_exporter": "python",
   "pygments_lexer": "ipython3",
   "version": "3.7.10"
  }
 },
 "nbformat": 4,
 "nbformat_minor": 4
}
